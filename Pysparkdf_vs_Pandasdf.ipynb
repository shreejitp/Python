{
  "nbformat": 4,
  "nbformat_minor": 0,
  "metadata": {
    "colab": {
      "name": "Pysparkdf_vs_Pandasdf.ipynb",
      "provenance": [],
      "authorship_tag": "ABX9TyNRSQqRPjL8GabK7UzHSWKw",
      "include_colab_link": true
    },
    "kernelspec": {
      "name": "python3",
      "display_name": "Python 3"
    }
  },
  "cells": [
    {
      "cell_type": "markdown",
      "metadata": {
        "id": "view-in-github",
        "colab_type": "text"
      },
      "source": [
        "<a href=\"https://colab.research.google.com/github/shreejitp/Python/blob/master/Pysparkdf_vs_Pandasdf.ipynb\" target=\"_parent\"><img src=\"https://colab.research.google.com/assets/colab-badge.svg\" alt=\"Open In Colab\"/></a>"
      ]
    },
    {
      "cell_type": "markdown",
      "metadata": {
        "id": "EiEE6s-0TIQK",
        "colab_type": "text"
      },
      "source": [
        "Often we work with data in Dataframes. They could be in a pandas dataframe or in a pyspark dataframe. I have listed some of the most commonly used operations with examples on dataframes in both pandas and pyspark.  \n",
        "\n",
        "Warning: A different version of JAVA on the machine you are using may give some errors for pyspark dataframes. Otherwise, the code should work fine.\n",
        "\n"
      ]
    },
    {
      "cell_type": "code",
      "metadata": {
        "id": "MsVPXc1PTEcY",
        "colab_type": "code",
        "outputId": "66b39309-1d51-4b42-86fb-e194ca396078",
        "colab": {
          "base_uri": "https://localhost:8080/",
          "height": 51
        }
      },
      "source": [
        "!pip install pyspark"
      ],
      "execution_count": 0,
      "outputs": [
        {
          "output_type": "stream",
          "text": [
            "Requirement already satisfied: pyspark in /usr/local/lib/python3.6/dist-packages (2.4.5)\n",
            "Requirement already satisfied: py4j==0.10.7 in /usr/local/lib/python3.6/dist-packages (from pyspark) (0.10.7)\n"
          ],
          "name": "stdout"
        }
      ]
    },
    {
      "cell_type": "code",
      "metadata": {
        "id": "nruvlBi0nEhr",
        "colab_type": "code",
        "colab": {}
      },
      "source": [
        "from pyspark.sql import SparkSession\n",
        "\n",
        "spark = SparkSession \\\n",
        "    .builder \\\n",
        "    .appName(\"Python Spark create RDD example\") \\\n",
        "    .config(\"spark.some.config.option\", \"some-value\") \\\n",
        "    .getOrCreate()"
      ],
      "execution_count": 0,
      "outputs": []
    },
    {
      "cell_type": "code",
      "metadata": {
        "id": "maJkXT6OnLUu",
        "colab_type": "code",
        "outputId": "792c920a-83d0-4e69-deed-9d7c7bd0f411",
        "colab": {
          "base_uri": "https://localhost:8080/",
          "height": 153
        }
      },
      "source": [
        "df = spark.sparkContext\\\n",
        "          .parallelize([(1, 2, 3, 'a b c'),\n",
        "              (4, 5, 6, 'd e f'),\n",
        "              (7, 8, 9, 'g h i')])\\\n",
        ".toDF(['col1', 'col2', 'col3','col4'])\n",
        "\n",
        "df.show()"
      ],
      "execution_count": 0,
      "outputs": [
        {
          "output_type": "stream",
          "text": [
            "+----+----+----+-----+\n",
            "|col1|col2|col3| col4|\n",
            "+----+----+----+-----+\n",
            "|   1|   2|   3|a b c|\n",
            "|   4|   5|   6|d e f|\n",
            "|   7|   8|   9|g h i|\n",
            "+----+----+----+-----+\n",
            "\n"
          ],
          "name": "stdout"
        }
      ]
    },
    {
      "cell_type": "markdown",
      "metadata": {
        "id": "dHrlrBDVn6wf",
        "colab_type": "text"
      },
      "source": [
        "#**RDD**\n",
        "\n",
        "RDD represents Resilient Distributed Dataset\n",
        "An RDD in Spark is simply an immutable distributed collection of objects sets. Each RDD is split into multiple partitions (similar pattern with smaller sets), which may be computed on different nodes of the cluster"
      ]
    },
    {
      "cell_type": "markdown",
      "metadata": {
        "id": "-HHVH5UZoVma",
        "colab_type": "text"
      },
      "source": [
        "1. By using parallelize( ) function"
      ]
    },
    {
      "cell_type": "code",
      "metadata": {
        "id": "UZHFrI3coZg7",
        "colab_type": "code",
        "colab": {}
      },
      "source": [
        "from pyspark.sql import SparkSession\n",
        "spark = SparkSession \\\n",
        "    .builder \\\n",
        "    .appName(\"Python Spark create RDD example\") \\\n",
        "    .config(\"spark.some.config.option\", \"some-value\") \\\n",
        "    .getOrCreate()\n",
        "df = spark.sparkContext.parallelize([(1, 2, 3, 'a b c'),\n",
        "             (4, 5, 6, 'd e f'),\n",
        "             (7, 8, 9, 'g h i')]).toDF(['col1', 'col2', 'col3','col4'])"
      ],
      "execution_count": 0,
      "outputs": []
    },
    {
      "cell_type": "code",
      "metadata": {
        "id": "1o9XVAfWoZjR",
        "colab_type": "code",
        "outputId": "5a23ca22-ebe0-4bc9-a581-e5f0e247f1d9",
        "colab": {
          "base_uri": "https://localhost:8080/",
          "height": 153
        }
      },
      "source": [
        "df.show()"
      ],
      "execution_count": 0,
      "outputs": [
        {
          "output_type": "stream",
          "text": [
            "+----+----+----+-----+\n",
            "|col1|col2|col3| col4|\n",
            "+----+----+----+-----+\n",
            "|   1|   2|   3|a b c|\n",
            "|   4|   5|   6|d e f|\n",
            "|   7|   8|   9|g h i|\n",
            "+----+----+----+-----+\n",
            "\n"
          ],
          "name": "stdout"
        }
      ]
    },
    {
      "cell_type": "markdown",
      "metadata": {
        "id": "AaiNWAjAoUBI",
        "colab_type": "text"
      },
      "source": [
        "2. By using createDataFrame( ) function"
      ]
    },
    {
      "cell_type": "code",
      "metadata": {
        "id": "g9fx9ejToxt0",
        "colab_type": "code",
        "colab": {}
      },
      "source": [
        "from pyspark.sql import SparkSession\n",
        "spark = SparkSession \\\n",
        "    .builder \\\n",
        "    .appName(\"Python Spark create RDD example\") \\\n",
        "    .config(\"spark.some.config.option\", \"some-value\") \\\n",
        "    .getOrCreate()\n",
        "\n",
        "Employee = spark.createDataFrame([\n",
        "                        ('1', 'Joe',   '70000', '1'),\n",
        "                        ('2', 'Henry', '80000', '2'),\n",
        "                        ('3', 'Sam',   '60000', '2'),\n",
        "                        ('4', 'Max',   '90000', '1')],\n",
        "                        ['Id', 'Name', 'Sallary','DepartmentId']\n",
        ")"
      ],
      "execution_count": 0,
      "outputs": []
    },
    {
      "cell_type": "code",
      "metadata": {
        "id": "kXDT6dlBo8MQ",
        "colab_type": "code",
        "outputId": "d7ad1f5a-d6c1-4983-aba6-2a9ec6f45dab",
        "colab": {
          "base_uri": "https://localhost:8080/",
          "height": 170
        }
      },
      "source": [
        "Employee.show()"
      ],
      "execution_count": 0,
      "outputs": [
        {
          "output_type": "stream",
          "text": [
            "+---+-----+-------+------------+\n",
            "| Id| Name|Sallary|DepartmentId|\n",
            "+---+-----+-------+------------+\n",
            "|  1|  Joe|  70000|           1|\n",
            "|  2|Henry|  80000|           2|\n",
            "|  3|  Sam|  60000|           2|\n",
            "|  4|  Max|  90000|           1|\n",
            "+---+-----+-------+------------+\n",
            "\n"
          ],
          "name": "stdout"
        }
      ]
    },
    {
      "cell_type": "markdown",
      "metadata": {
        "id": "3UJLcASnowsD",
        "colab_type": "text"
      },
      "source": [
        "3. By using read and load functions"
      ]
    },
    {
      "cell_type": "code",
      "metadata": {
        "id": "PDNhFFoZpic3",
        "colab_type": "code",
        "outputId": "c9da4797-5a25-44ad-d68c-4cc4c529e44a",
        "colab": {
          "base_uri": "https://localhost:8080/",
          "height": 663
        }
      },
      "source": [
        "## set up  SparkSession\n",
        "## Path here is the colab \n",
        "from pyspark.sql import SparkSession\n",
        "spark = SparkSession \\\n",
        "    .builder \\\n",
        "    .appName(\"Python Spark create RDD example\") \\\n",
        "    .config(\"spark.some.config.option\", \"some-value\") \\\n",
        "    .getOrCreate()\n",
        "df = spark.read.format('com.databricks.spark.csv').\\\n",
        "                               options(header='true', \\\n",
        "                                       inferschema='true').\\\n",
        "load(\"/content/weather-stations.csv\",header=True)\n",
        "#df.show(5)\n",
        "df.printSchema()"
      ],
      "execution_count": 0,
      "outputs": [
        {
          "output_type": "stream",
          "text": [
            "+--------------------+------+--------+----+----+----+---+----+----+----+----+----+----+---+-----+----+---+----+----+----+----+---+-----+----+-------+\n",
            "|            Stn_Name|   Lat|    Long|Prov|  Tm|DwTm|  D|  Tx|DwTx|  Tn|DwTn|   S| DwS|S%N|    P| DwP|P%N| S_G|  Pd|  BS|DwBS|BS%|  HDD| CDD| Stn_No|\n",
            "+--------------------+------+--------+----+----+----+---+----+----+----+----+----+----+---+-----+----+---+----+----+----+----+---+-----+----+-------+\n",
            "|           CHEMAINUS|48.935|-123.742|  BC| 8.2|   0| NA|13.5|   0| 1.0|   0| 0.0|   0| NA|178.8|   0| NA|   0|  12|null|null| NA|273.3|   0|1011500|\n",
            "|COWICHAN LAKE FOR...|48.824|-124.133|  BC| 7.0|   0|  3|15.0|   0|-3.0|   0| 0.0|   0|  0|258.6|   0|104|   0|  12|null|null| NA|307.0|   0|1012040|\n",
            "|       LAKE COWICHAN|48.829|-124.052|  BC| 6.8|  13|2.8|16.0|   9|-2.5|   9| 0.0|   9| NA|264.6|   9| NA|null|  11|null|null| NA|168.1|   0|1012055|\n",
            "|    DISCOVERY ISLAND|48.425|-123.226|  BC|null|null| NA|12.5|   0|null|null|null|null| NA| null|null| NA|null|null|null|null| NA| null|null|1012475|\n",
            "| DUNCAN KELVIN CREEK|48.735|-123.728|  BC| 7.7|   2|3.4|14.5|   2|-1.0|   2| 0.0|   2| NA|168.4|   2| NA|null|  11|null|null| NA|267.7|   0|1012573|\n",
            "+--------------------+------+--------+----+----+----+---+----+----+----+----+----+----+---+-----+----+---+----+----+----+----+---+-----+----+-------+\n",
            "only showing top 5 rows\n",
            "\n",
            "root\n",
            " |-- Stn_Name: string (nullable = true)\n",
            " |-- Lat: double (nullable = true)\n",
            " |-- Long: double (nullable = true)\n",
            " |-- Prov: string (nullable = true)\n",
            " |-- Tm: double (nullable = true)\n",
            " |-- DwTm: integer (nullable = true)\n",
            " |-- D: string (nullable = true)\n",
            " |-- Tx: double (nullable = true)\n",
            " |-- DwTx: integer (nullable = true)\n",
            " |-- Tn: double (nullable = true)\n",
            " |-- DwTn: integer (nullable = true)\n",
            " |-- S: double (nullable = true)\n",
            " |-- DwS: integer (nullable = true)\n",
            " |-- S%N: string (nullable = true)\n",
            " |-- P: double (nullable = true)\n",
            " |-- DwP: integer (nullable = true)\n",
            " |-- P%N: string (nullable = true)\n",
            " |-- S_G: integer (nullable = true)\n",
            " |-- Pd: integer (nullable = true)\n",
            " |-- BS: string (nullable = true)\n",
            " |-- DwBS: string (nullable = true)\n",
            " |-- BS%: string (nullable = true)\n",
            " |-- HDD: double (nullable = true)\n",
            " |-- CDD: integer (nullable = true)\n",
            " |-- Stn_No: string (nullable = true)\n",
            "\n"
          ],
          "name": "stdout"
        }
      ]
    },
    {
      "cell_type": "code",
      "metadata": {
        "id": "wNVPbWhssR_1",
        "colab_type": "code",
        "colab": {}
      },
      "source": [
        "import pandas as pd \n",
        "dp = pd.read_csv('/content/weather-stations.csv')"
      ],
      "execution_count": 0,
      "outputs": []
    },
    {
      "cell_type": "markdown",
      "metadata": {
        "id": "gemzlT13yp2u",
        "colab_type": "text"
      },
      "source": [
        "#**First n Rows**"
      ]
    },
    {
      "cell_type": "code",
      "metadata": {
        "id": "bxtbGkUGsadm",
        "colab_type": "code",
        "outputId": "c936f05d-e620-4872-bed9-ee7044b26de2",
        "colab": {
          "base_uri": "https://localhost:8080/",
          "height": 80
        }
      },
      "source": [
        "dp.head(1)\n"
      ],
      "execution_count": 0,
      "outputs": [
        {
          "output_type": "execute_result",
          "data": {
            "text/html": [
              "<div>\n",
              "<style scoped>\n",
              "    .dataframe tbody tr th:only-of-type {\n",
              "        vertical-align: middle;\n",
              "    }\n",
              "\n",
              "    .dataframe tbody tr th {\n",
              "        vertical-align: top;\n",
              "    }\n",
              "\n",
              "    .dataframe thead th {\n",
              "        text-align: right;\n",
              "    }\n",
              "</style>\n",
              "<table border=\"1\" class=\"dataframe\">\n",
              "  <thead>\n",
              "    <tr style=\"text-align: right;\">\n",
              "      <th></th>\n",
              "      <th>Stn_Name</th>\n",
              "      <th>Lat</th>\n",
              "      <th>Long</th>\n",
              "      <th>Prov</th>\n",
              "      <th>Tm</th>\n",
              "      <th>DwTm</th>\n",
              "      <th>D</th>\n",
              "      <th>Tx</th>\n",
              "      <th>DwTx</th>\n",
              "      <th>Tn</th>\n",
              "      <th>DwTn</th>\n",
              "      <th>S</th>\n",
              "      <th>DwS</th>\n",
              "      <th>S%N</th>\n",
              "      <th>P</th>\n",
              "      <th>DwP</th>\n",
              "      <th>P%N</th>\n",
              "      <th>S_G</th>\n",
              "      <th>Pd</th>\n",
              "      <th>BS</th>\n",
              "      <th>DwBS</th>\n",
              "      <th>BS%</th>\n",
              "      <th>HDD</th>\n",
              "      <th>CDD</th>\n",
              "      <th>Stn_No</th>\n",
              "    </tr>\n",
              "  </thead>\n",
              "  <tbody>\n",
              "    <tr>\n",
              "      <th>0</th>\n",
              "      <td>CHEMAINUS</td>\n",
              "      <td>48.935</td>\n",
              "      <td>-123.742</td>\n",
              "      <td>BC</td>\n",
              "      <td>8.2</td>\n",
              "      <td>0.0</td>\n",
              "      <td>NaN</td>\n",
              "      <td>13.5</td>\n",
              "      <td>0.0</td>\n",
              "      <td>1.0</td>\n",
              "      <td>0.0</td>\n",
              "      <td>0.0</td>\n",
              "      <td>0.0</td>\n",
              "      <td>NaN</td>\n",
              "      <td>178.8</td>\n",
              "      <td>0.0</td>\n",
              "      <td>NaN</td>\n",
              "      <td>0.0</td>\n",
              "      <td>12.0</td>\n",
              "      <td>NaN</td>\n",
              "      <td>NaN</td>\n",
              "      <td>NaN</td>\n",
              "      <td>273.3</td>\n",
              "      <td>0.0</td>\n",
              "      <td>1011500</td>\n",
              "    </tr>\n",
              "  </tbody>\n",
              "</table>\n",
              "</div>"
            ],
            "text/plain": [
              "    Stn_Name     Lat     Long Prov   Tm  ...  DwBS  BS%    HDD  CDD   Stn_No\n",
              "0  CHEMAINUS  48.935 -123.742   BC  8.2  ...   NaN  NaN  273.3  0.0  1011500\n",
              "\n",
              "[1 rows x 25 columns]"
            ]
          },
          "metadata": {
            "tags": []
          },
          "execution_count": 18
        }
      ]
    },
    {
      "cell_type": "code",
      "metadata": {
        "id": "v6Ajf2hRskVA",
        "colab_type": "code",
        "outputId": "1c5989b1-a351-49b5-ce71-715bdadb25d9",
        "colab": {
          "base_uri": "https://localhost:8080/",
          "height": 136
        }
      },
      "source": [
        "df.show(1)"
      ],
      "execution_count": 0,
      "outputs": [
        {
          "output_type": "stream",
          "text": [
            "+---------+------+--------+----+---+----+---+----+----+---+----+---+---+---+-----+---+---+---+---+----+----+---+-----+---+-------+\n",
            "| Stn_Name|   Lat|    Long|Prov| Tm|DwTm|  D|  Tx|DwTx| Tn|DwTn|  S|DwS|S%N|    P|DwP|P%N|S_G| Pd|  BS|DwBS|BS%|  HDD|CDD| Stn_No|\n",
            "+---------+------+--------+----+---+----+---+----+----+---+----+---+---+---+-----+---+---+---+---+----+----+---+-----+---+-------+\n",
            "|CHEMAINUS|48.935|-123.742|  BC|8.2|   0| NA|13.5|   0|1.0|   0|0.0|  0| NA|178.8|  0| NA|  0| 12|null|null| NA|273.3|  0|1011500|\n",
            "+---------+------+--------+----+---+----+---+----+----+---+----+---+---+---+-----+---+---+---+---+----+----+---+-----+---+-------+\n",
            "only showing top 1 row\n",
            "\n"
          ],
          "name": "stdout"
        }
      ]
    },
    {
      "cell_type": "markdown",
      "metadata": {
        "id": "DWfFtPN5ylLJ",
        "colab_type": "text"
      },
      "source": [
        "#**Column Names**"
      ]
    },
    {
      "cell_type": "code",
      "metadata": {
        "id": "W0iYQgfUsxPp",
        "colab_type": "code",
        "outputId": "2278f3e2-b236-46c1-f914-5b4040a7dbae",
        "colab": {
          "base_uri": "https://localhost:8080/",
          "height": 442
        }
      },
      "source": [
        "#Column Names of Pyspark DF \n",
        "# dp.columns\n",
        "df.columns"
      ],
      "execution_count": 0,
      "outputs": [
        {
          "output_type": "execute_result",
          "data": {
            "text/plain": [
              "['Stn_Name',\n",
              " 'Lat',\n",
              " 'Long',\n",
              " 'Prov',\n",
              " 'Tm',\n",
              " 'DwTm',\n",
              " 'D',\n",
              " 'Tx',\n",
              " 'DwTx',\n",
              " 'Tn',\n",
              " 'DwTn',\n",
              " 'S',\n",
              " 'DwS',\n",
              " 'S%N',\n",
              " 'P',\n",
              " 'DwP',\n",
              " 'P%N',\n",
              " 'S_G',\n",
              " 'Pd',\n",
              " 'BS',\n",
              " 'DwBS',\n",
              " 'BS%',\n",
              " 'HDD',\n",
              " 'CDD',\n",
              " 'Stn_No']"
            ]
          },
          "metadata": {
            "tags": []
          },
          "execution_count": 20
        }
      ]
    },
    {
      "cell_type": "markdown",
      "metadata": {
        "id": "uuGIkaZgyigc",
        "colab_type": "text"
      },
      "source": [
        "# **Data Types**"
      ]
    },
    {
      "cell_type": "code",
      "metadata": {
        "id": "vfRxMKQvs_xS",
        "colab_type": "code",
        "outputId": "8c412f32-88e0-4377-caa6-061f2ff6dc4d",
        "colab": {
          "base_uri": "https://localhost:8080/",
          "height": 442
        }
      },
      "source": [
        "#DataTypes \n",
        "# dp.types\n",
        "df.dtypes"
      ],
      "execution_count": 0,
      "outputs": [
        {
          "output_type": "execute_result",
          "data": {
            "text/plain": [
              "[('Stn_Name', 'string'),\n",
              " ('Lat', 'double'),\n",
              " ('Long', 'double'),\n",
              " ('Prov', 'string'),\n",
              " ('Tm', 'double'),\n",
              " ('DwTm', 'int'),\n",
              " ('D', 'string'),\n",
              " ('Tx', 'double'),\n",
              " ('DwTx', 'int'),\n",
              " ('Tn', 'double'),\n",
              " ('DwTn', 'int'),\n",
              " ('S', 'double'),\n",
              " ('DwS', 'int'),\n",
              " ('S%N', 'string'),\n",
              " ('P', 'double'),\n",
              " ('DwP', 'int'),\n",
              " ('P%N', 'string'),\n",
              " ('S_G', 'int'),\n",
              " ('Pd', 'int'),\n",
              " ('BS', 'string'),\n",
              " ('DwBS', 'string'),\n",
              " ('BS%', 'string'),\n",
              " ('HDD', 'double'),\n",
              " ('CDD', 'int'),\n",
              " ('Stn_No', 'string')]"
            ]
          },
          "metadata": {
            "tags": []
          },
          "execution_count": 22
        }
      ]
    },
    {
      "cell_type": "markdown",
      "metadata": {
        "id": "rqoHm1_WtQCJ",
        "colab_type": "text"
      },
      "source": [
        "# **Fill Null**"
      ]
    },
    {
      "cell_type": "code",
      "metadata": {
        "id": "xg8ymJV9tNkh",
        "colab_type": "code",
        "outputId": "93fa4c1e-d764-47cf-b8b6-4234bd25ccf3",
        "colab": {
          "base_uri": "https://localhost:8080/",
          "height": 153
        }
      },
      "source": [
        "import pandas as pd\n",
        "my_list = [['male', 1, None], ['female', 2, 3],['male', 3, 4]] \n",
        "dp = pd.DataFrame(my_list,columns=['A', 'B', 'C'])\n",
        "ds = spark.createDataFrame(my_list, ['A', 'B', 'C'])\n",
        "#\n",
        "ds.show()"
      ],
      "execution_count": 0,
      "outputs": [
        {
          "output_type": "stream",
          "text": [
            "+------+---+----+\n",
            "|     A|  B|   C|\n",
            "+------+---+----+\n",
            "|  male|  1|null|\n",
            "|female|  2|   3|\n",
            "|  male|  3|   4|\n",
            "+------+---+----+\n",
            "\n"
          ],
          "name": "stdout"
        }
      ]
    },
    {
      "cell_type": "code",
      "metadata": {
        "id": "fYW1Mod2tmKX",
        "colab_type": "code",
        "outputId": "23457c26-fe20-4ef8-d033-96c700acb3d4",
        "colab": {
          "base_uri": "https://localhost:8080/",
          "height": 142
        }
      },
      "source": [
        "dp.head()"
      ],
      "execution_count": 0,
      "outputs": [
        {
          "output_type": "execute_result",
          "data": {
            "text/html": [
              "<div>\n",
              "<style scoped>\n",
              "    .dataframe tbody tr th:only-of-type {\n",
              "        vertical-align: middle;\n",
              "    }\n",
              "\n",
              "    .dataframe tbody tr th {\n",
              "        vertical-align: top;\n",
              "    }\n",
              "\n",
              "    .dataframe thead th {\n",
              "        text-align: right;\n",
              "    }\n",
              "</style>\n",
              "<table border=\"1\" class=\"dataframe\">\n",
              "  <thead>\n",
              "    <tr style=\"text-align: right;\">\n",
              "      <th></th>\n",
              "      <th>A</th>\n",
              "      <th>B</th>\n",
              "      <th>C</th>\n",
              "    </tr>\n",
              "  </thead>\n",
              "  <tbody>\n",
              "    <tr>\n",
              "      <th>0</th>\n",
              "      <td>male</td>\n",
              "      <td>1</td>\n",
              "      <td>NaN</td>\n",
              "    </tr>\n",
              "    <tr>\n",
              "      <th>1</th>\n",
              "      <td>female</td>\n",
              "      <td>2</td>\n",
              "      <td>3.0</td>\n",
              "    </tr>\n",
              "    <tr>\n",
              "      <th>2</th>\n",
              "      <td>male</td>\n",
              "      <td>3</td>\n",
              "      <td>4.0</td>\n",
              "    </tr>\n",
              "  </tbody>\n",
              "</table>\n",
              "</div>"
            ],
            "text/plain": [
              "        A  B    C\n",
              "0    male  1  NaN\n",
              "1  female  2  3.0\n",
              "2    male  3  4.0"
            ]
          },
          "metadata": {
            "tags": []
          },
          "execution_count": 6
        }
      ]
    },
    {
      "cell_type": "code",
      "metadata": {
        "id": "sdzfnzzBtNnM",
        "colab_type": "code",
        "outputId": "c8d9175b-3f6f-43ef-8184-7f60e7dd74de",
        "colab": {
          "base_uri": "https://localhost:8080/",
          "height": 142
        }
      },
      "source": [
        "dp.fillna(-99)"
      ],
      "execution_count": 0,
      "outputs": [
        {
          "output_type": "execute_result",
          "data": {
            "text/html": [
              "<div>\n",
              "<style scoped>\n",
              "    .dataframe tbody tr th:only-of-type {\n",
              "        vertical-align: middle;\n",
              "    }\n",
              "\n",
              "    .dataframe tbody tr th {\n",
              "        vertical-align: top;\n",
              "    }\n",
              "\n",
              "    .dataframe thead th {\n",
              "        text-align: right;\n",
              "    }\n",
              "</style>\n",
              "<table border=\"1\" class=\"dataframe\">\n",
              "  <thead>\n",
              "    <tr style=\"text-align: right;\">\n",
              "      <th></th>\n",
              "      <th>A</th>\n",
              "      <th>B</th>\n",
              "      <th>C</th>\n",
              "    </tr>\n",
              "  </thead>\n",
              "  <tbody>\n",
              "    <tr>\n",
              "      <th>0</th>\n",
              "      <td>male</td>\n",
              "      <td>1</td>\n",
              "      <td>-99.0</td>\n",
              "    </tr>\n",
              "    <tr>\n",
              "      <th>1</th>\n",
              "      <td>female</td>\n",
              "      <td>2</td>\n",
              "      <td>3.0</td>\n",
              "    </tr>\n",
              "    <tr>\n",
              "      <th>2</th>\n",
              "      <td>male</td>\n",
              "      <td>3</td>\n",
              "      <td>4.0</td>\n",
              "    </tr>\n",
              "  </tbody>\n",
              "</table>\n",
              "</div>"
            ],
            "text/plain": [
              "        A  B     C\n",
              "0    male  1 -99.0\n",
              "1  female  2   3.0\n",
              "2    male  3   4.0"
            ]
          },
          "metadata": {
            "tags": []
          },
          "execution_count": 7
        }
      ]
    },
    {
      "cell_type": "code",
      "metadata": {
        "id": "G-M07qDLtNvf",
        "colab_type": "code",
        "outputId": "d633cc25-5548-4de5-fe58-76e4ec9767ea",
        "colab": {
          "base_uri": "https://localhost:8080/",
          "height": 153
        }
      },
      "source": [
        "ds.fillna(-99).show()"
      ],
      "execution_count": 0,
      "outputs": [
        {
          "output_type": "stream",
          "text": [
            "+------+---+---+\n",
            "|     A|  B|  C|\n",
            "+------+---+---+\n",
            "|  male|  1|-99|\n",
            "|female|  2|  3|\n",
            "|  male|  3|  4|\n",
            "+------+---+---+\n",
            "\n"
          ],
          "name": "stdout"
        }
      ]
    },
    {
      "cell_type": "markdown",
      "metadata": {
        "id": "oWqJWds3ttjB",
        "colab_type": "text"
      },
      "source": [
        "# **Replace Values**"
      ]
    },
    {
      "cell_type": "code",
      "metadata": {
        "id": "p7uSRJYgtNyM",
        "colab_type": "code",
        "outputId": "24b30213-f6fc-4826-c2ea-f501899225c7",
        "colab": {
          "base_uri": "https://localhost:8080/",
          "height": 142
        }
      },
      "source": [
        "#Replacing male by 1 and female by 0 \n",
        "dp.A.replace(['male', 'female'],[1, 0], inplace=True) \n",
        "dp"
      ],
      "execution_count": 0,
      "outputs": [
        {
          "output_type": "execute_result",
          "data": {
            "text/html": [
              "<div>\n",
              "<style scoped>\n",
              "    .dataframe tbody tr th:only-of-type {\n",
              "        vertical-align: middle;\n",
              "    }\n",
              "\n",
              "    .dataframe tbody tr th {\n",
              "        vertical-align: top;\n",
              "    }\n",
              "\n",
              "    .dataframe thead th {\n",
              "        text-align: right;\n",
              "    }\n",
              "</style>\n",
              "<table border=\"1\" class=\"dataframe\">\n",
              "  <thead>\n",
              "    <tr style=\"text-align: right;\">\n",
              "      <th></th>\n",
              "      <th>A</th>\n",
              "      <th>B</th>\n",
              "      <th>C</th>\n",
              "    </tr>\n",
              "  </thead>\n",
              "  <tbody>\n",
              "    <tr>\n",
              "      <th>0</th>\n",
              "      <td>1</td>\n",
              "      <td>1</td>\n",
              "      <td>NaN</td>\n",
              "    </tr>\n",
              "    <tr>\n",
              "      <th>1</th>\n",
              "      <td>0</td>\n",
              "      <td>2</td>\n",
              "      <td>3.0</td>\n",
              "    </tr>\n",
              "    <tr>\n",
              "      <th>2</th>\n",
              "      <td>1</td>\n",
              "      <td>3</td>\n",
              "      <td>4.0</td>\n",
              "    </tr>\n",
              "  </tbody>\n",
              "</table>\n",
              "</div>"
            ],
            "text/plain": [
              "   A  B    C\n",
              "0  1  1  NaN\n",
              "1  0  2  3.0\n",
              "2  1  3  4.0"
            ]
          },
          "metadata": {
            "tags": []
          },
          "execution_count": 9
        }
      ]
    },
    {
      "cell_type": "code",
      "metadata": {
        "id": "ZktsYEBttN1C",
        "colab_type": "code",
        "outputId": "6cd0ce82-93d3-41c0-92e2-5ed2f2643d2d",
        "colab": {
          "base_uri": "https://localhost:8080/",
          "height": 153
        }
      },
      "source": [
        "ds.na.replace(['male','female'],['1','0']).show()"
      ],
      "execution_count": 0,
      "outputs": [
        {
          "output_type": "stream",
          "text": [
            "+---+---+----+\n",
            "|  A|  B|   C|\n",
            "+---+---+----+\n",
            "|  1|  1|null|\n",
            "|  0|  2|   3|\n",
            "|  1|  3|   4|\n",
            "+---+---+----+\n",
            "\n"
          ],
          "name": "stdout"
        }
      ]
    },
    {
      "cell_type": "markdown",
      "metadata": {
        "id": "fKghamUl7VES",
        "colab_type": "text"
      },
      "source": [
        "# **Rename Columns**"
      ]
    },
    {
      "cell_type": "code",
      "metadata": {
        "id": "sFtdpTIFtN3t",
        "colab_type": "code",
        "outputId": "31171201-a05c-4ac0-fb61-e5f071b627a9",
        "colab": {
          "base_uri": "https://localhost:8080/",
          "height": 142
        }
      },
      "source": [
        "dp.columns = ['a','b','c'] \n",
        "dp.head(4)"
      ],
      "execution_count": 0,
      "outputs": [
        {
          "output_type": "execute_result",
          "data": {
            "text/html": [
              "<div>\n",
              "<style scoped>\n",
              "    .dataframe tbody tr th:only-of-type {\n",
              "        vertical-align: middle;\n",
              "    }\n",
              "\n",
              "    .dataframe tbody tr th {\n",
              "        vertical-align: top;\n",
              "    }\n",
              "\n",
              "    .dataframe thead th {\n",
              "        text-align: right;\n",
              "    }\n",
              "</style>\n",
              "<table border=\"1\" class=\"dataframe\">\n",
              "  <thead>\n",
              "    <tr style=\"text-align: right;\">\n",
              "      <th></th>\n",
              "      <th>a</th>\n",
              "      <th>b</th>\n",
              "      <th>c</th>\n",
              "    </tr>\n",
              "  </thead>\n",
              "  <tbody>\n",
              "    <tr>\n",
              "      <th>0</th>\n",
              "      <td>1</td>\n",
              "      <td>1</td>\n",
              "      <td>NaN</td>\n",
              "    </tr>\n",
              "    <tr>\n",
              "      <th>1</th>\n",
              "      <td>0</td>\n",
              "      <td>2</td>\n",
              "      <td>3.0</td>\n",
              "    </tr>\n",
              "    <tr>\n",
              "      <th>2</th>\n",
              "      <td>1</td>\n",
              "      <td>3</td>\n",
              "      <td>4.0</td>\n",
              "    </tr>\n",
              "  </tbody>\n",
              "</table>\n",
              "</div>"
            ],
            "text/plain": [
              "   a  b    c\n",
              "0  1  1  NaN\n",
              "1  0  2  3.0\n",
              "2  1  3  4.0"
            ]
          },
          "metadata": {
            "tags": []
          },
          "execution_count": 15
        }
      ]
    },
    {
      "cell_type": "code",
      "metadata": {
        "id": "pdPxLvrx-NdM",
        "colab_type": "code",
        "outputId": "f6e6fae4-9276-468b-cc74-b8e9a6723607",
        "colab": {
          "base_uri": "https://localhost:8080/",
          "height": 153
        }
      },
      "source": [
        "ds.toDF('a','b','c').show(4)"
      ],
      "execution_count": 0,
      "outputs": [
        {
          "output_type": "stream",
          "text": [
            "+------+---+----+\n",
            "|     a|  b|   c|\n",
            "+------+---+----+\n",
            "|  male|  1|null|\n",
            "|female|  2|   3|\n",
            "|  male|  3|   4|\n",
            "+------+---+----+\n",
            "\n"
          ],
          "name": "stdout"
        }
      ]
    },
    {
      "cell_type": "markdown",
      "metadata": {
        "id": "1yyVeNf8-cP3",
        "colab_type": "text"
      },
      "source": [
        "Rename one or more columns "
      ]
    },
    {
      "cell_type": "code",
      "metadata": {
        "id": "XBjp0lU--enV",
        "colab_type": "code",
        "colab": {}
      },
      "source": [
        "mapping = {'c':'Newspaper','b':'Sales'}"
      ],
      "execution_count": 0,
      "outputs": []
    },
    {
      "cell_type": "code",
      "metadata": {
        "id": "igEj5P0U-kpm",
        "colab_type": "code",
        "outputId": "09b91271-065e-42b2-ecb6-e355a17754b7",
        "colab": {
          "base_uri": "https://localhost:8080/",
          "height": 142
        }
      },
      "source": [
        "dp.rename(columns=mapping).head(4)"
      ],
      "execution_count": 0,
      "outputs": [
        {
          "output_type": "execute_result",
          "data": {
            "text/html": [
              "<div>\n",
              "<style scoped>\n",
              "    .dataframe tbody tr th:only-of-type {\n",
              "        vertical-align: middle;\n",
              "    }\n",
              "\n",
              "    .dataframe tbody tr th {\n",
              "        vertical-align: top;\n",
              "    }\n",
              "\n",
              "    .dataframe thead th {\n",
              "        text-align: right;\n",
              "    }\n",
              "</style>\n",
              "<table border=\"1\" class=\"dataframe\">\n",
              "  <thead>\n",
              "    <tr style=\"text-align: right;\">\n",
              "      <th></th>\n",
              "      <th>a</th>\n",
              "      <th>Sales</th>\n",
              "      <th>Newspaper</th>\n",
              "    </tr>\n",
              "  </thead>\n",
              "  <tbody>\n",
              "    <tr>\n",
              "      <th>0</th>\n",
              "      <td>1</td>\n",
              "      <td>1</td>\n",
              "      <td>NaN</td>\n",
              "    </tr>\n",
              "    <tr>\n",
              "      <th>1</th>\n",
              "      <td>0</td>\n",
              "      <td>2</td>\n",
              "      <td>3.0</td>\n",
              "    </tr>\n",
              "    <tr>\n",
              "      <th>2</th>\n",
              "      <td>1</td>\n",
              "      <td>3</td>\n",
              "      <td>4.0</td>\n",
              "    </tr>\n",
              "  </tbody>\n",
              "</table>\n",
              "</div>"
            ],
            "text/plain": [
              "   a  Sales  Newspaper\n",
              "0  1      1        NaN\n",
              "1  0      2        3.0\n",
              "2  1      3        4.0"
            ]
          },
          "metadata": {
            "tags": []
          },
          "execution_count": 27
        }
      ]
    },
    {
      "cell_type": "code",
      "metadata": {
        "id": "vm551vwD-k3a",
        "colab_type": "code",
        "outputId": "5ddf4b72-6ab4-48c4-f758-f53f354deb75",
        "colab": {
          "base_uri": "https://localhost:8080/",
          "height": 153
        }
      },
      "source": [
        "#Renaming Column B and C to Sales and Newspaper respectively using a mapping \n",
        "mapping = {'C':'Newspaper','B':'Sales'}\n",
        "new_names = [mapping.get(col,col) for col in ds.columns] \n",
        "ds.toDF(*new_names).show(4)"
      ],
      "execution_count": 0,
      "outputs": [
        {
          "output_type": "stream",
          "text": [
            "+------+-----+---------+\n",
            "|     A|Sales|Newspaper|\n",
            "+------+-----+---------+\n",
            "|  male|    1|     null|\n",
            "|female|    2|        3|\n",
            "|  male|    3|        4|\n",
            "+------+-----+---------+\n",
            "\n"
          ],
          "name": "stdout"
        }
      ]
    },
    {
      "cell_type": "markdown",
      "metadata": {
        "id": "U81XO-Ng_SBr",
        "colab_type": "text"
      },
      "source": [
        "You can also use withColumnRenamed to renameonecolumn in PySpark"
      ]
    },
    {
      "cell_type": "code",
      "metadata": {
        "id": "ko4qF1lW-k6l",
        "colab_type": "code",
        "outputId": "6b49c95e-4245-4eba-e2e5-5ddf7e2adf84",
        "colab": {
          "base_uri": "https://localhost:8080/",
          "height": 153
        }
      },
      "source": [
        "#Renaming column B to Paper \n",
        "ds.withColumnRenamed('B','Paper').show(4)"
      ],
      "execution_count": 0,
      "outputs": [
        {
          "output_type": "stream",
          "text": [
            "+------+-----+----+\n",
            "|     A|Paper|   C|\n",
            "+------+-----+----+\n",
            "|  male|    1|null|\n",
            "|female|    2|   3|\n",
            "|  male|    3|   4|\n",
            "+------+-----+----+\n",
            "\n"
          ],
          "name": "stdout"
        }
      ]
    },
    {
      "cell_type": "markdown",
      "metadata": {
        "id": "6C9-H6xc_rXq",
        "colab_type": "text"
      },
      "source": [
        "# **Drop Columns**"
      ]
    },
    {
      "cell_type": "code",
      "metadata": {
        "id": "DqXYONLP_qp7",
        "colab_type": "code",
        "outputId": "a02abf62-51f8-4385-b49a-6da717947042",
        "colab": {
          "base_uri": "https://localhost:8080/",
          "height": 142
        }
      },
      "source": [
        "drop_name = ['a','b']\n",
        "dp.drop(drop_name,axis=1).head(4)"
      ],
      "execution_count": 0,
      "outputs": [
        {
          "output_type": "execute_result",
          "data": {
            "text/html": [
              "<div>\n",
              "<style scoped>\n",
              "    .dataframe tbody tr th:only-of-type {\n",
              "        vertical-align: middle;\n",
              "    }\n",
              "\n",
              "    .dataframe tbody tr th {\n",
              "        vertical-align: top;\n",
              "    }\n",
              "\n",
              "    .dataframe thead th {\n",
              "        text-align: right;\n",
              "    }\n",
              "</style>\n",
              "<table border=\"1\" class=\"dataframe\">\n",
              "  <thead>\n",
              "    <tr style=\"text-align: right;\">\n",
              "      <th></th>\n",
              "      <th>c</th>\n",
              "    </tr>\n",
              "  </thead>\n",
              "  <tbody>\n",
              "    <tr>\n",
              "      <th>0</th>\n",
              "      <td>NaN</td>\n",
              "    </tr>\n",
              "    <tr>\n",
              "      <th>1</th>\n",
              "      <td>3.0</td>\n",
              "    </tr>\n",
              "    <tr>\n",
              "      <th>2</th>\n",
              "      <td>4.0</td>\n",
              "    </tr>\n",
              "  </tbody>\n",
              "</table>\n",
              "</div>"
            ],
            "text/plain": [
              "     c\n",
              "0  NaN\n",
              "1  3.0\n",
              "2  4.0"
            ]
          },
          "metadata": {
            "tags": []
          },
          "execution_count": 34
        }
      ]
    },
    {
      "cell_type": "code",
      "metadata": {
        "id": "mwry-u54-k-C",
        "colab_type": "code",
        "outputId": "6b530d67-2e61-4467-9e12-9910db37ec70",
        "colab": {
          "base_uri": "https://localhost:8080/",
          "height": 153
        }
      },
      "source": [
        "drop_name = ['A','B']\n",
        "ds.drop(*drop_name).show(4)"
      ],
      "execution_count": 0,
      "outputs": [
        {
          "output_type": "stream",
          "text": [
            "+----+\n",
            "|   C|\n",
            "+----+\n",
            "|null|\n",
            "|   3|\n",
            "|   4|\n",
            "+----+\n",
            "\n"
          ],
          "name": "stdout"
        }
      ]
    },
    {
      "cell_type": "markdown",
      "metadata": {
        "id": "B7QCdcUWAUll",
        "colab_type": "text"
      },
      "source": [
        "# **Filter**"
      ]
    },
    {
      "cell_type": "code",
      "metadata": {
        "id": "XS1N01m--lBL",
        "colab_type": "code",
        "colab": {}
      },
      "source": [
        "#Files on Colab in Sample_data \n",
        "dp = pd.read_csv('/content/sample_data/california_housing_train.csv')\n",
        "#\n",
        "ds = spark.read.csv(path='/content/sample_data/california_housing_train.csv',\n",
        "                    header=True,\n",
        "                    inferSchema=True)"
      ],
      "execution_count": 0,
      "outputs": []
    },
    {
      "cell_type": "code",
      "metadata": {
        "id": "N-d1siQTAkGX",
        "colab_type": "code",
        "outputId": "36ed324a-1cce-483a-b200-e8cb53b7a883",
        "colab": {
          "base_uri": "https://localhost:8080/",
          "height": 142
        }
      },
      "source": [
        "dp.head(3)"
      ],
      "execution_count": 0,
      "outputs": [
        {
          "output_type": "execute_result",
          "data": {
            "text/html": [
              "<div>\n",
              "<style scoped>\n",
              "    .dataframe tbody tr th:only-of-type {\n",
              "        vertical-align: middle;\n",
              "    }\n",
              "\n",
              "    .dataframe tbody tr th {\n",
              "        vertical-align: top;\n",
              "    }\n",
              "\n",
              "    .dataframe thead th {\n",
              "        text-align: right;\n",
              "    }\n",
              "</style>\n",
              "<table border=\"1\" class=\"dataframe\">\n",
              "  <thead>\n",
              "    <tr style=\"text-align: right;\">\n",
              "      <th></th>\n",
              "      <th>longitude</th>\n",
              "      <th>latitude</th>\n",
              "      <th>housing_median_age</th>\n",
              "      <th>total_rooms</th>\n",
              "      <th>total_bedrooms</th>\n",
              "      <th>population</th>\n",
              "      <th>households</th>\n",
              "      <th>median_income</th>\n",
              "      <th>median_house_value</th>\n",
              "    </tr>\n",
              "  </thead>\n",
              "  <tbody>\n",
              "    <tr>\n",
              "      <th>0</th>\n",
              "      <td>-114.31</td>\n",
              "      <td>34.19</td>\n",
              "      <td>15.0</td>\n",
              "      <td>5612.0</td>\n",
              "      <td>1283.0</td>\n",
              "      <td>1015.0</td>\n",
              "      <td>472.0</td>\n",
              "      <td>1.4936</td>\n",
              "      <td>66900.0</td>\n",
              "    </tr>\n",
              "    <tr>\n",
              "      <th>1</th>\n",
              "      <td>-114.47</td>\n",
              "      <td>34.40</td>\n",
              "      <td>19.0</td>\n",
              "      <td>7650.0</td>\n",
              "      <td>1901.0</td>\n",
              "      <td>1129.0</td>\n",
              "      <td>463.0</td>\n",
              "      <td>1.8200</td>\n",
              "      <td>80100.0</td>\n",
              "    </tr>\n",
              "    <tr>\n",
              "      <th>2</th>\n",
              "      <td>-114.56</td>\n",
              "      <td>33.69</td>\n",
              "      <td>17.0</td>\n",
              "      <td>720.0</td>\n",
              "      <td>174.0</td>\n",
              "      <td>333.0</td>\n",
              "      <td>117.0</td>\n",
              "      <td>1.6509</td>\n",
              "      <td>85700.0</td>\n",
              "    </tr>\n",
              "  </tbody>\n",
              "</table>\n",
              "</div>"
            ],
            "text/plain": [
              "   longitude  latitude  ...  median_income  median_house_value\n",
              "0    -114.31     34.19  ...         1.4936             66900.0\n",
              "1    -114.47     34.40  ...         1.8200             80100.0\n",
              "2    -114.56     33.69  ...         1.6509             85700.0\n",
              "\n",
              "[3 rows x 9 columns]"
            ]
          },
          "metadata": {
            "tags": []
          },
          "execution_count": 38
        }
      ]
    },
    {
      "cell_type": "code",
      "metadata": {
        "id": "xebJG5btA-dE",
        "colab_type": "code",
        "outputId": "39ebd315-57e7-412c-bdda-118a6681cb89",
        "colab": {
          "base_uri": "https://localhost:8080/",
          "height": 173
        }
      },
      "source": [
        "#Filtering all House Median Age Below 20 \n",
        "dp[dp.housing_median_age<20].head(4) "
      ],
      "execution_count": 0,
      "outputs": [
        {
          "output_type": "execute_result",
          "data": {
            "text/html": [
              "<div>\n",
              "<style scoped>\n",
              "    .dataframe tbody tr th:only-of-type {\n",
              "        vertical-align: middle;\n",
              "    }\n",
              "\n",
              "    .dataframe tbody tr th {\n",
              "        vertical-align: top;\n",
              "    }\n",
              "\n",
              "    .dataframe thead th {\n",
              "        text-align: right;\n",
              "    }\n",
              "</style>\n",
              "<table border=\"1\" class=\"dataframe\">\n",
              "  <thead>\n",
              "    <tr style=\"text-align: right;\">\n",
              "      <th></th>\n",
              "      <th>longitude</th>\n",
              "      <th>latitude</th>\n",
              "      <th>housing_median_age</th>\n",
              "      <th>total_rooms</th>\n",
              "      <th>total_bedrooms</th>\n",
              "      <th>population</th>\n",
              "      <th>households</th>\n",
              "      <th>median_income</th>\n",
              "      <th>median_house_value</th>\n",
              "    </tr>\n",
              "  </thead>\n",
              "  <tbody>\n",
              "    <tr>\n",
              "      <th>0</th>\n",
              "      <td>-114.31</td>\n",
              "      <td>34.19</td>\n",
              "      <td>15.0</td>\n",
              "      <td>5612.0</td>\n",
              "      <td>1283.0</td>\n",
              "      <td>1015.0</td>\n",
              "      <td>472.0</td>\n",
              "      <td>1.4936</td>\n",
              "      <td>66900.0</td>\n",
              "    </tr>\n",
              "    <tr>\n",
              "      <th>1</th>\n",
              "      <td>-114.47</td>\n",
              "      <td>34.40</td>\n",
              "      <td>19.0</td>\n",
              "      <td>7650.0</td>\n",
              "      <td>1901.0</td>\n",
              "      <td>1129.0</td>\n",
              "      <td>463.0</td>\n",
              "      <td>1.8200</td>\n",
              "      <td>80100.0</td>\n",
              "    </tr>\n",
              "    <tr>\n",
              "      <th>2</th>\n",
              "      <td>-114.56</td>\n",
              "      <td>33.69</td>\n",
              "      <td>17.0</td>\n",
              "      <td>720.0</td>\n",
              "      <td>174.0</td>\n",
              "      <td>333.0</td>\n",
              "      <td>117.0</td>\n",
              "      <td>1.6509</td>\n",
              "      <td>85700.0</td>\n",
              "    </tr>\n",
              "    <tr>\n",
              "      <th>3</th>\n",
              "      <td>-114.57</td>\n",
              "      <td>33.64</td>\n",
              "      <td>14.0</td>\n",
              "      <td>1501.0</td>\n",
              "      <td>337.0</td>\n",
              "      <td>515.0</td>\n",
              "      <td>226.0</td>\n",
              "      <td>3.1917</td>\n",
              "      <td>73400.0</td>\n",
              "    </tr>\n",
              "  </tbody>\n",
              "</table>\n",
              "</div>"
            ],
            "text/plain": [
              "   longitude  latitude  ...  median_income  median_house_value\n",
              "0    -114.31     34.19  ...         1.4936             66900.0\n",
              "1    -114.47     34.40  ...         1.8200             80100.0\n",
              "2    -114.56     33.69  ...         1.6509             85700.0\n",
              "3    -114.57     33.64  ...         3.1917             73400.0\n",
              "\n",
              "[4 rows x 9 columns]"
            ]
          },
          "metadata": {
            "tags": []
          },
          "execution_count": 40
        }
      ]
    },
    {
      "cell_type": "code",
      "metadata": {
        "id": "ypo-T4tJBCfO",
        "colab_type": "code",
        "outputId": "933768ea-9266-4461-aece-a05f1dfe73a0",
        "colab": {
          "base_uri": "https://localhost:8080/",
          "height": 187
        }
      },
      "source": [
        "#Doing the same on Pyspark Dataframe \n",
        "ds[ds.housing_median_age<20].show(4)"
      ],
      "execution_count": 0,
      "outputs": [
        {
          "output_type": "stream",
          "text": [
            "+---------+--------+------------------+-----------+--------------+----------+----------+-------------+------------------+\n",
            "|longitude|latitude|housing_median_age|total_rooms|total_bedrooms|population|households|median_income|median_house_value|\n",
            "+---------+--------+------------------+-----------+--------------+----------+----------+-------------+------------------+\n",
            "|  -114.31|   34.19|              15.0|     5612.0|        1283.0|    1015.0|     472.0|       1.4936|           66900.0|\n",
            "|  -114.47|    34.4|              19.0|     7650.0|        1901.0|    1129.0|     463.0|         1.82|           80100.0|\n",
            "|  -114.56|   33.69|              17.0|      720.0|         174.0|     333.0|     117.0|       1.6509|           85700.0|\n",
            "|  -114.57|   33.64|              14.0|     1501.0|         337.0|     515.0|     226.0|       3.1917|           73400.0|\n",
            "+---------+--------+------------------+-----------+--------------+----------+----------+-------------+------------------+\n",
            "only showing top 4 rows\n",
            "\n"
          ],
          "name": "stdout"
        }
      ]
    },
    {
      "cell_type": "code",
      "metadata": {
        "id": "kEykBeCLBX5m",
        "colab_type": "code",
        "outputId": "fab9a97e-d293-4589-8897-4956fe0d09cc",
        "colab": {
          "base_uri": "https://localhost:8080/",
          "height": 173
        }
      },
      "source": [
        "#Filtering using conditions on 2 columns \n",
        "dp[(dp.housing_median_age<20)&(dp.total_rooms>1000)].head(4) "
      ],
      "execution_count": 0,
      "outputs": [
        {
          "output_type": "execute_result",
          "data": {
            "text/html": [
              "<div>\n",
              "<style scoped>\n",
              "    .dataframe tbody tr th:only-of-type {\n",
              "        vertical-align: middle;\n",
              "    }\n",
              "\n",
              "    .dataframe tbody tr th {\n",
              "        vertical-align: top;\n",
              "    }\n",
              "\n",
              "    .dataframe thead th {\n",
              "        text-align: right;\n",
              "    }\n",
              "</style>\n",
              "<table border=\"1\" class=\"dataframe\">\n",
              "  <thead>\n",
              "    <tr style=\"text-align: right;\">\n",
              "      <th></th>\n",
              "      <th>longitude</th>\n",
              "      <th>latitude</th>\n",
              "      <th>housing_median_age</th>\n",
              "      <th>total_rooms</th>\n",
              "      <th>total_bedrooms</th>\n",
              "      <th>population</th>\n",
              "      <th>households</th>\n",
              "      <th>median_income</th>\n",
              "      <th>median_house_value</th>\n",
              "    </tr>\n",
              "  </thead>\n",
              "  <tbody>\n",
              "    <tr>\n",
              "      <th>0</th>\n",
              "      <td>-114.31</td>\n",
              "      <td>34.19</td>\n",
              "      <td>15.0</td>\n",
              "      <td>5612.0</td>\n",
              "      <td>1283.0</td>\n",
              "      <td>1015.0</td>\n",
              "      <td>472.0</td>\n",
              "      <td>1.4936</td>\n",
              "      <td>66900.0</td>\n",
              "    </tr>\n",
              "    <tr>\n",
              "      <th>1</th>\n",
              "      <td>-114.47</td>\n",
              "      <td>34.40</td>\n",
              "      <td>19.0</td>\n",
              "      <td>7650.0</td>\n",
              "      <td>1901.0</td>\n",
              "      <td>1129.0</td>\n",
              "      <td>463.0</td>\n",
              "      <td>1.8200</td>\n",
              "      <td>80100.0</td>\n",
              "    </tr>\n",
              "    <tr>\n",
              "      <th>3</th>\n",
              "      <td>-114.57</td>\n",
              "      <td>33.64</td>\n",
              "      <td>14.0</td>\n",
              "      <td>1501.0</td>\n",
              "      <td>337.0</td>\n",
              "      <td>515.0</td>\n",
              "      <td>226.0</td>\n",
              "      <td>3.1917</td>\n",
              "      <td>73400.0</td>\n",
              "    </tr>\n",
              "    <tr>\n",
              "      <th>10</th>\n",
              "      <td>-114.60</td>\n",
              "      <td>33.62</td>\n",
              "      <td>16.0</td>\n",
              "      <td>3741.0</td>\n",
              "      <td>801.0</td>\n",
              "      <td>2434.0</td>\n",
              "      <td>824.0</td>\n",
              "      <td>2.6797</td>\n",
              "      <td>86500.0</td>\n",
              "    </tr>\n",
              "  </tbody>\n",
              "</table>\n",
              "</div>"
            ],
            "text/plain": [
              "    longitude  latitude  ...  median_income  median_house_value\n",
              "0     -114.31     34.19  ...         1.4936             66900.0\n",
              "1     -114.47     34.40  ...         1.8200             80100.0\n",
              "3     -114.57     33.64  ...         3.1917             73400.0\n",
              "10    -114.60     33.62  ...         2.6797             86500.0\n",
              "\n",
              "[4 rows x 9 columns]"
            ]
          },
          "metadata": {
            "tags": []
          },
          "execution_count": 42
        }
      ]
    },
    {
      "cell_type": "code",
      "metadata": {
        "id": "08VuLSNrBi4B",
        "colab_type": "code",
        "outputId": "933a3f4c-efaf-4087-9839-b796fb32521a",
        "colab": {
          "base_uri": "https://localhost:8080/",
          "height": 187
        }
      },
      "source": [
        "ds[(ds.housing_median_age<20)&(ds.total_rooms>1000)].show(4)"
      ],
      "execution_count": 0,
      "outputs": [
        {
          "output_type": "stream",
          "text": [
            "+---------+--------+------------------+-----------+--------------+----------+----------+-------------+------------------+\n",
            "|longitude|latitude|housing_median_age|total_rooms|total_bedrooms|population|households|median_income|median_house_value|\n",
            "+---------+--------+------------------+-----------+--------------+----------+----------+-------------+------------------+\n",
            "|  -114.31|   34.19|              15.0|     5612.0|        1283.0|    1015.0|     472.0|       1.4936|           66900.0|\n",
            "|  -114.47|    34.4|              19.0|     7650.0|        1901.0|    1129.0|     463.0|         1.82|           80100.0|\n",
            "|  -114.57|   33.64|              14.0|     1501.0|         337.0|     515.0|     226.0|       3.1917|           73400.0|\n",
            "|   -114.6|   33.62|              16.0|     3741.0|         801.0|    2434.0|     824.0|       2.6797|           86500.0|\n",
            "+---------+--------+------------------+-----------+--------------+----------+----------+-------------+------------------+\n",
            "only showing top 4 rows\n",
            "\n"
          ],
          "name": "stdout"
        }
      ]
    },
    {
      "cell_type": "markdown",
      "metadata": {
        "id": "_uklIoPKBtQv",
        "colab_type": "text"
      },
      "source": [
        "With New Column"
      ]
    },
    {
      "cell_type": "code",
      "metadata": {
        "id": "QKlfJfmfBqGG",
        "colab_type": "code",
        "outputId": "91e79595-2b8f-4725-da83-2e76a197fd01",
        "colab": {
          "base_uri": "https://localhost:8080/",
          "height": 111
        }
      },
      "source": [
        "#Adding a new Column \n",
        "dp['total_rooms_norm'] = dp.total_rooms/sum(dp.total_rooms)\n",
        "dp.head(2)"
      ],
      "execution_count": 0,
      "outputs": [
        {
          "output_type": "execute_result",
          "data": {
            "text/html": [
              "<div>\n",
              "<style scoped>\n",
              "    .dataframe tbody tr th:only-of-type {\n",
              "        vertical-align: middle;\n",
              "    }\n",
              "\n",
              "    .dataframe tbody tr th {\n",
              "        vertical-align: top;\n",
              "    }\n",
              "\n",
              "    .dataframe thead th {\n",
              "        text-align: right;\n",
              "    }\n",
              "</style>\n",
              "<table border=\"1\" class=\"dataframe\">\n",
              "  <thead>\n",
              "    <tr style=\"text-align: right;\">\n",
              "      <th></th>\n",
              "      <th>longitude</th>\n",
              "      <th>latitude</th>\n",
              "      <th>housing_median_age</th>\n",
              "      <th>total_rooms</th>\n",
              "      <th>total_bedrooms</th>\n",
              "      <th>population</th>\n",
              "      <th>households</th>\n",
              "      <th>median_income</th>\n",
              "      <th>median_house_value</th>\n",
              "      <th>total_rooms_norm</th>\n",
              "    </tr>\n",
              "  </thead>\n",
              "  <tbody>\n",
              "    <tr>\n",
              "      <th>0</th>\n",
              "      <td>-114.31</td>\n",
              "      <td>34.19</td>\n",
              "      <td>15.0</td>\n",
              "      <td>5612.0</td>\n",
              "      <td>1283.0</td>\n",
              "      <td>1015.0</td>\n",
              "      <td>472.0</td>\n",
              "      <td>1.4936</td>\n",
              "      <td>66900.0</td>\n",
              "      <td>0.000125</td>\n",
              "    </tr>\n",
              "    <tr>\n",
              "      <th>1</th>\n",
              "      <td>-114.47</td>\n",
              "      <td>34.40</td>\n",
              "      <td>19.0</td>\n",
              "      <td>7650.0</td>\n",
              "      <td>1901.0</td>\n",
              "      <td>1129.0</td>\n",
              "      <td>463.0</td>\n",
              "      <td>1.8200</td>\n",
              "      <td>80100.0</td>\n",
              "      <td>0.000170</td>\n",
              "    </tr>\n",
              "  </tbody>\n",
              "</table>\n",
              "</div>"
            ],
            "text/plain": [
              "   longitude  latitude  ...  median_house_value  total_rooms_norm\n",
              "0    -114.31     34.19  ...             66900.0          0.000125\n",
              "1    -114.47     34.40  ...             80100.0          0.000170\n",
              "\n",
              "[2 rows x 10 columns]"
            ]
          },
          "metadata": {
            "tags": []
          },
          "execution_count": 45
        }
      ]
    },
    {
      "cell_type": "markdown",
      "metadata": {
        "id": "RUePnnhWgYqT",
        "colab_type": "text"
      },
      "source": [
        "Getting an error with the code below. Seems like a Java issue "
      ]
    },
    {
      "cell_type": "code",
      "metadata": {
        "id": "I68js_QuBqIS",
        "colab_type": "code",
        "colab": {}
      },
      "source": [
        "# https://docs.databricks.com/spark/latest/dataframes-datasets/introduction-to-dataframes-python.html\n",
        "# https://towardsdatascience.com/5-ways-to-add-a-new-column-in-a-pyspark-dataframe-4e75c2fd8c08\n",
        "# Using the F function in pyspark for Aggregation \n",
        "from pyspark.sql import functions as F\n",
        "ds.withColumn('a', ds.total_rooms/ds.groupBy().agg(F.sum(\"total_rooms\")).collect()[0][0]).show()\n",
        "# https://stackoverflow.com/questions/53583199/pyspark-error-unsupported-class-file-major-version\n"
      ],
      "execution_count": 0,
      "outputs": []
    },
    {
      "cell_type": "code",
      "metadata": {
        "id": "4UAgGCnMBqKj",
        "colab_type": "code",
        "outputId": "1dd56c91-7c02-4c2c-8888-54871c39ee1f",
        "colab": {
          "base_uri": "https://localhost:8080/",
          "height": 187
        }
      },
      "source": [
        "  #Adding the Current_Date Field to DataFrame \n",
        "  from pyspark.sql.functions import current_date\n",
        "  ds.withColumn('Current_Date', current_date().cast(\"string\")).show(4)"
      ],
      "execution_count": 0,
      "outputs": [
        {
          "output_type": "stream",
          "text": [
            "+---------+--------+------------------+-----------+--------------+----------+----------+-------------+------------------+------------+\n",
            "|longitude|latitude|housing_median_age|total_rooms|total_bedrooms|population|households|median_income|median_house_value|Current_Date|\n",
            "+---------+--------+------------------+-----------+--------------+----------+----------+-------------+------------------+------------+\n",
            "|  -114.31|   34.19|              15.0|     5612.0|        1283.0|    1015.0|     472.0|       1.4936|           66900.0|  2020-05-27|\n",
            "|  -114.47|    34.4|              19.0|     7650.0|        1901.0|    1129.0|     463.0|         1.82|           80100.0|  2020-05-27|\n",
            "|  -114.56|   33.69|              17.0|      720.0|         174.0|     333.0|     117.0|       1.6509|           85700.0|  2020-05-27|\n",
            "|  -114.57|   33.64|              14.0|     1501.0|         337.0|     515.0|     226.0|       3.1917|           73400.0|  2020-05-27|\n",
            "+---------+--------+------------------+-----------+--------------+----------+----------+-------------+------------------+------------+\n",
            "only showing top 4 rows\n",
            "\n"
          ],
          "name": "stdout"
        }
      ]
    },
    {
      "cell_type": "code",
      "metadata": {
        "id": "I3ja2x-mBqM4",
        "colab_type": "code",
        "colab": {}
      },
      "source": [
        "dp['cond'] = dp.apply(lambda c: 1 if ((c.total_rooms>100)&(c.population<400000)) else 2 if c.households> 10 else 3,axis=1)"
      ],
      "execution_count": 0,
      "outputs": []
    },
    {
      "cell_type": "code",
      "metadata": {
        "id": "Yx_ZF5S0BqTN",
        "colab_type": "code",
        "outputId": "d493b4f8-f209-495f-b1c7-7bd6248e799d",
        "colab": {
          "base_uri": "https://localhost:8080/",
          "height": 100
        }
      },
      "source": [
        "#Checking the new field added \n",
        "dp.head(1)"
      ],
      "execution_count": 0,
      "outputs": [
        {
          "output_type": "execute_result",
          "data": {
            "text/html": [
              "<div>\n",
              "<style scoped>\n",
              "    .dataframe tbody tr th:only-of-type {\n",
              "        vertical-align: middle;\n",
              "    }\n",
              "\n",
              "    .dataframe tbody tr th {\n",
              "        vertical-align: top;\n",
              "    }\n",
              "\n",
              "    .dataframe thead th {\n",
              "        text-align: right;\n",
              "    }\n",
              "</style>\n",
              "<table border=\"1\" class=\"dataframe\">\n",
              "  <thead>\n",
              "    <tr style=\"text-align: right;\">\n",
              "      <th></th>\n",
              "      <th>longitude</th>\n",
              "      <th>latitude</th>\n",
              "      <th>housing_median_age</th>\n",
              "      <th>total_rooms</th>\n",
              "      <th>total_bedrooms</th>\n",
              "      <th>population</th>\n",
              "      <th>households</th>\n",
              "      <th>median_income</th>\n",
              "      <th>median_house_value</th>\n",
              "      <th>total_rooms_norm</th>\n",
              "      <th>cond</th>\n",
              "    </tr>\n",
              "  </thead>\n",
              "  <tbody>\n",
              "    <tr>\n",
              "      <th>0</th>\n",
              "      <td>-114.31</td>\n",
              "      <td>34.19</td>\n",
              "      <td>15.0</td>\n",
              "      <td>5612.0</td>\n",
              "      <td>1283.0</td>\n",
              "      <td>1015.0</td>\n",
              "      <td>472.0</td>\n",
              "      <td>1.4936</td>\n",
              "      <td>66900.0</td>\n",
              "      <td>0.000125</td>\n",
              "      <td>1</td>\n",
              "    </tr>\n",
              "  </tbody>\n",
              "</table>\n",
              "</div>"
            ],
            "text/plain": [
              "   longitude  latitude  ...  total_rooms_norm  cond\n",
              "0    -114.31     34.19  ...          0.000125     1\n",
              "\n",
              "[1 rows x 11 columns]"
            ]
          },
          "metadata": {
            "tags": []
          },
          "execution_count": 122
        }
      ]
    },
    {
      "cell_type": "code",
      "metadata": {
        "id": "cagGOucfBqYN",
        "colab_type": "code",
        "outputId": "ec5376e8-cde7-4448-e87d-9336f7672a3c",
        "colab": {
          "base_uri": "https://localhost:8080/",
          "height": 187
        }
      },
      "source": [
        "# Using When and otherwise in Pyspark \n",
        "ds.withColumn('cond',F.when((ds.total_rooms>100)&(ds.population<400000),1)\\\n",
        "                      .when(ds.households>10, 2)\\\n",
        "                      .otherwise(3)).show(4)"
      ],
      "execution_count": 0,
      "outputs": [
        {
          "output_type": "stream",
          "text": [
            "+---------+--------+------------------+-----------+--------------+----------+----------+-------------+------------------+----+\n",
            "|longitude|latitude|housing_median_age|total_rooms|total_bedrooms|population|households|median_income|median_house_value|cond|\n",
            "+---------+--------+------------------+-----------+--------------+----------+----------+-------------+------------------+----+\n",
            "|  -114.31|   34.19|              15.0|     5612.0|        1283.0|    1015.0|     472.0|       1.4936|           66900.0|   1|\n",
            "|  -114.47|    34.4|              19.0|     7650.0|        1901.0|    1129.0|     463.0|         1.82|           80100.0|   1|\n",
            "|  -114.56|   33.69|              17.0|      720.0|         174.0|     333.0|     117.0|       1.6509|           85700.0|   1|\n",
            "|  -114.57|   33.64|              14.0|     1501.0|         337.0|     515.0|     226.0|       3.1917|           73400.0|   1|\n",
            "+---------+--------+------------------+-----------+--------------+----------+----------+-------------+------------------+----+\n",
            "only showing top 4 rows\n",
            "\n"
          ],
          "name": "stdout"
        }
      ]
    },
    {
      "cell_type": "code",
      "metadata": {
        "id": "Zadk1hTjBqWL",
        "colab_type": "code",
        "outputId": "0641687a-d50e-4ac3-c0c3-073df411943f",
        "colab": {
          "base_uri": "https://localhost:8080/",
          "height": 193
        }
      },
      "source": [
        "import numpy as np\n",
        "dp['log_tv'] = np.log(dp.total_rooms)\n",
        "dp.head(4)"
      ],
      "execution_count": 0,
      "outputs": [
        {
          "output_type": "execute_result",
          "data": {
            "text/html": [
              "<div>\n",
              "<style scoped>\n",
              "    .dataframe tbody tr th:only-of-type {\n",
              "        vertical-align: middle;\n",
              "    }\n",
              "\n",
              "    .dataframe tbody tr th {\n",
              "        vertical-align: top;\n",
              "    }\n",
              "\n",
              "    .dataframe thead th {\n",
              "        text-align: right;\n",
              "    }\n",
              "</style>\n",
              "<table border=\"1\" class=\"dataframe\">\n",
              "  <thead>\n",
              "    <tr style=\"text-align: right;\">\n",
              "      <th></th>\n",
              "      <th>longitude</th>\n",
              "      <th>latitude</th>\n",
              "      <th>housing_median_age</th>\n",
              "      <th>total_rooms</th>\n",
              "      <th>total_bedrooms</th>\n",
              "      <th>population</th>\n",
              "      <th>households</th>\n",
              "      <th>median_income</th>\n",
              "      <th>median_house_value</th>\n",
              "      <th>total_rooms_norm</th>\n",
              "      <th>cond</th>\n",
              "      <th>log_tv</th>\n",
              "    </tr>\n",
              "  </thead>\n",
              "  <tbody>\n",
              "    <tr>\n",
              "      <th>0</th>\n",
              "      <td>-114.31</td>\n",
              "      <td>34.19</td>\n",
              "      <td>15.0</td>\n",
              "      <td>5612.0</td>\n",
              "      <td>1283.0</td>\n",
              "      <td>1015.0</td>\n",
              "      <td>472.0</td>\n",
              "      <td>1.4936</td>\n",
              "      <td>66900.0</td>\n",
              "      <td>0.000125</td>\n",
              "      <td>1</td>\n",
              "      <td>8.632662</td>\n",
              "    </tr>\n",
              "    <tr>\n",
              "      <th>1</th>\n",
              "      <td>-114.47</td>\n",
              "      <td>34.40</td>\n",
              "      <td>19.0</td>\n",
              "      <td>7650.0</td>\n",
              "      <td>1901.0</td>\n",
              "      <td>1129.0</td>\n",
              "      <td>463.0</td>\n",
              "      <td>1.8200</td>\n",
              "      <td>80100.0</td>\n",
              "      <td>0.000170</td>\n",
              "      <td>1</td>\n",
              "      <td>8.942461</td>\n",
              "    </tr>\n",
              "    <tr>\n",
              "      <th>2</th>\n",
              "      <td>-114.56</td>\n",
              "      <td>33.69</td>\n",
              "      <td>17.0</td>\n",
              "      <td>720.0</td>\n",
              "      <td>174.0</td>\n",
              "      <td>333.0</td>\n",
              "      <td>117.0</td>\n",
              "      <td>1.6509</td>\n",
              "      <td>85700.0</td>\n",
              "      <td>0.000016</td>\n",
              "      <td>1</td>\n",
              "      <td>6.579251</td>\n",
              "    </tr>\n",
              "    <tr>\n",
              "      <th>3</th>\n",
              "      <td>-114.57</td>\n",
              "      <td>33.64</td>\n",
              "      <td>14.0</td>\n",
              "      <td>1501.0</td>\n",
              "      <td>337.0</td>\n",
              "      <td>515.0</td>\n",
              "      <td>226.0</td>\n",
              "      <td>3.1917</td>\n",
              "      <td>73400.0</td>\n",
              "      <td>0.000033</td>\n",
              "      <td>1</td>\n",
              "      <td>7.313887</td>\n",
              "    </tr>\n",
              "  </tbody>\n",
              "</table>\n",
              "</div>"
            ],
            "text/plain": [
              "   longitude  latitude  housing_median_age  ...  total_rooms_norm  cond    log_tv\n",
              "0    -114.31     34.19                15.0  ...          0.000125     1  8.632662\n",
              "1    -114.47     34.40                19.0  ...          0.000170     1  8.942461\n",
              "2    -114.56     33.69                17.0  ...          0.000016     1  6.579251\n",
              "3    -114.57     33.64                14.0  ...          0.000033     1  7.313887\n",
              "\n",
              "[4 rows x 12 columns]"
            ]
          },
          "metadata": {
            "tags": []
          },
          "execution_count": 125
        }
      ]
    },
    {
      "cell_type": "code",
      "metadata": {
        "id": "S6H3dy6sBqRI",
        "colab_type": "code",
        "outputId": "03d13cc3-95c1-4a4b-ac75-d9f2b7953425",
        "colab": {
          "base_uri": "https://localhost:8080/",
          "height": 187
        }
      },
      "source": [
        "#Getting log of total rooms in a new column \n",
        "import pyspark.sql.functions as F \n",
        "ds.withColumn('log_tv',F.log(ds.total_rooms)).show(4)"
      ],
      "execution_count": 0,
      "outputs": [
        {
          "output_type": "stream",
          "text": [
            "+---------+--------+------------------+-----------+--------------+----------+----------+-------------+------------------+-----------------+\n",
            "|longitude|latitude|housing_median_age|total_rooms|total_bedrooms|population|households|median_income|median_house_value|           log_tv|\n",
            "+---------+--------+------------------+-----------+--------------+----------+----------+-------------+------------------+-----------------+\n",
            "|  -114.31|   34.19|              15.0|     5612.0|        1283.0|    1015.0|     472.0|       1.4936|           66900.0|8.632662441222351|\n",
            "|  -114.47|    34.4|              19.0|     7650.0|        1901.0|    1129.0|     463.0|         1.82|           80100.0|8.942460926820582|\n",
            "|  -114.56|   33.69|              17.0|      720.0|         174.0|     333.0|     117.0|       1.6509|           85700.0|6.579251212010101|\n",
            "|  -114.57|   33.64|              14.0|     1501.0|         337.0|     515.0|     226.0|       3.1917|           73400.0|7.313886831633462|\n",
            "+---------+--------+------------------+-----------+--------------+----------+----------+-------------+------------------+-----------------+\n",
            "only showing top 4 rows\n",
            "\n"
          ],
          "name": "stdout"
        }
      ]
    },
    {
      "cell_type": "code",
      "metadata": {
        "id": "i_vQuQXVBqPv",
        "colab_type": "code",
        "outputId": "4c859035-c1d4-4f5c-948a-79ae77f7a3f2",
        "colab": {
          "base_uri": "https://localhost:8080/",
          "height": 187
        }
      },
      "source": [
        "#dp['tv+10'] = dp.total_rooms.apply(lambda x: x+10) dp.head(4)\n",
        "ds.withColumn('tv+10', ds.total_rooms+10).show(4)"
      ],
      "execution_count": 0,
      "outputs": [
        {
          "output_type": "stream",
          "text": [
            "+---------+--------+------------------+-----------+--------------+----------+----------+-------------+------------------+------+\n",
            "|longitude|latitude|housing_median_age|total_rooms|total_bedrooms|population|households|median_income|median_house_value| tv+10|\n",
            "+---------+--------+------------------+-----------+--------------+----------+----------+-------------+------------------+------+\n",
            "|  -114.31|   34.19|              15.0|     5612.0|        1283.0|    1015.0|     472.0|       1.4936|           66900.0|5622.0|\n",
            "|  -114.47|    34.4|              19.0|     7650.0|        1901.0|    1129.0|     463.0|         1.82|           80100.0|7660.0|\n",
            "|  -114.56|   33.69|              17.0|      720.0|         174.0|     333.0|     117.0|       1.6509|           85700.0| 730.0|\n",
            "|  -114.57|   33.64|              14.0|     1501.0|         337.0|     515.0|     226.0|       3.1917|           73400.0|1511.0|\n",
            "+---------+--------+------------------+-----------+--------------+----------+----------+-------------+------------------+------+\n",
            "only showing top 4 rows\n",
            "\n"
          ],
          "name": "stdout"
        }
      ]
    },
    {
      "cell_type": "markdown",
      "metadata": {
        "id": "4n2Zzw4RtMsw",
        "colab_type": "text"
      },
      "source": [
        "# **JOIN**\n"
      ]
    },
    {
      "cell_type": "code",
      "metadata": {
        "id": "QMHGEOw54sVS",
        "colab_type": "code",
        "colab": {}
      },
      "source": [
        "import pandas as pd \n",
        "leftp = pd.DataFrame({'A': ['A0', 'A1', 'A2', 'A3'],\n",
        "                    'B': ['B0', 'B1', 'B2', 'B3'],\n",
        "                    'C': ['C0', 'C1', 'C2', 'C3'],\n",
        "                    'D': ['D0', 'D1', 'D2', 'D3']},\n",
        "                    index=[0, 1, 2, 3])"
      ],
      "execution_count": 0,
      "outputs": []
    },
    {
      "cell_type": "code",
      "metadata": {
        "id": "OZ0IncEo4sX5",
        "colab_type": "code",
        "colab": {}
      },
      "source": [
        "rightp = pd.DataFrame({'A': ['A0', 'A1', 'A6', 'A7'],\n",
        "                       'F': ['B4', 'B5', 'B6', 'B7'],\n",
        "                       'G': ['C4', 'C5', 'C6', 'C7'],\n",
        "                       'H': ['D4', 'D5', 'D6', 'D7']},\n",
        "                       index=[4, 5, 6, 7])"
      ],
      "execution_count": 0,
      "outputs": []
    },
    {
      "cell_type": "code",
      "metadata": {
        "id": "c9lvWaYENCzo",
        "colab_type": "code",
        "colab": {}
      },
      "source": [
        "lefts = spark.createDataFrame(leftp)\n",
        "rights = spark.createDataFrame(rightp)"
      ],
      "execution_count": 0,
      "outputs": []
    },
    {
      "cell_type": "markdown",
      "metadata": {
        "id": "bZYADTfQNtXF",
        "colab_type": "text"
      },
      "source": [
        "**Left Join**"
      ]
    },
    {
      "cell_type": "code",
      "metadata": {
        "id": "00Dn18cqNrpm",
        "colab_type": "code",
        "outputId": "b7586be1-15d6-41b8-f72b-a99c63ce10e4",
        "colab": {
          "base_uri": "https://localhost:8080/",
          "height": 173
        }
      },
      "source": [
        "leftp.merge(rightp,on='A',how='left') \n"
      ],
      "execution_count": 0,
      "outputs": [
        {
          "output_type": "execute_result",
          "data": {
            "text/html": [
              "<div>\n",
              "<style scoped>\n",
              "    .dataframe tbody tr th:only-of-type {\n",
              "        vertical-align: middle;\n",
              "    }\n",
              "\n",
              "    .dataframe tbody tr th {\n",
              "        vertical-align: top;\n",
              "    }\n",
              "\n",
              "    .dataframe thead th {\n",
              "        text-align: right;\n",
              "    }\n",
              "</style>\n",
              "<table border=\"1\" class=\"dataframe\">\n",
              "  <thead>\n",
              "    <tr style=\"text-align: right;\">\n",
              "      <th></th>\n",
              "      <th>A</th>\n",
              "      <th>B</th>\n",
              "      <th>C</th>\n",
              "      <th>D</th>\n",
              "      <th>F</th>\n",
              "      <th>G</th>\n",
              "      <th>H</th>\n",
              "    </tr>\n",
              "  </thead>\n",
              "  <tbody>\n",
              "    <tr>\n",
              "      <th>0</th>\n",
              "      <td>A0</td>\n",
              "      <td>B0</td>\n",
              "      <td>C0</td>\n",
              "      <td>D0</td>\n",
              "      <td>B4</td>\n",
              "      <td>C4</td>\n",
              "      <td>D4</td>\n",
              "    </tr>\n",
              "    <tr>\n",
              "      <th>1</th>\n",
              "      <td>A1</td>\n",
              "      <td>B1</td>\n",
              "      <td>C1</td>\n",
              "      <td>D1</td>\n",
              "      <td>B5</td>\n",
              "      <td>C5</td>\n",
              "      <td>D5</td>\n",
              "    </tr>\n",
              "    <tr>\n",
              "      <th>2</th>\n",
              "      <td>A2</td>\n",
              "      <td>B2</td>\n",
              "      <td>C2</td>\n",
              "      <td>D2</td>\n",
              "      <td>NaN</td>\n",
              "      <td>NaN</td>\n",
              "      <td>NaN</td>\n",
              "    </tr>\n",
              "    <tr>\n",
              "      <th>3</th>\n",
              "      <td>A3</td>\n",
              "      <td>B3</td>\n",
              "      <td>C3</td>\n",
              "      <td>D3</td>\n",
              "      <td>NaN</td>\n",
              "      <td>NaN</td>\n",
              "      <td>NaN</td>\n",
              "    </tr>\n",
              "  </tbody>\n",
              "</table>\n",
              "</div>"
            ],
            "text/plain": [
              "    A   B   C   D    F    G    H\n",
              "0  A0  B0  C0  D0   B4   C4   D4\n",
              "1  A1  B1  C1  D1   B5   C5   D5\n",
              "2  A2  B2  C2  D2  NaN  NaN  NaN\n",
              "3  A3  B3  C3  D3  NaN  NaN  NaN"
            ]
          },
          "metadata": {
            "tags": []
          },
          "execution_count": 9
        }
      ]
    },
    {
      "cell_type": "code",
      "metadata": {
        "id": "e11TNpAtN5yX",
        "colab_type": "code",
        "colab": {}
      },
      "source": [
        "# You could get an error if you have a different version of JAVA on the machine \n",
        "#lefts.join(rights,on='A',how='left').orderBy('A',ascending=True).show()"
      ],
      "execution_count": 0,
      "outputs": []
    },
    {
      "cell_type": "markdown",
      "metadata": {
        "id": "adeV2UxgOiW3",
        "colab_type": "text"
      },
      "source": [
        "**Right Join**"
      ]
    },
    {
      "cell_type": "code",
      "metadata": {
        "id": "mXqFMxDOOeFB",
        "colab_type": "code",
        "outputId": "bdcb1cef-7964-4afa-e45f-6b8904e5b071",
        "colab": {
          "base_uri": "https://localhost:8080/",
          "height": 173
        }
      },
      "source": [
        "leftp.merge(rightp,on='A',how='right')"
      ],
      "execution_count": 0,
      "outputs": [
        {
          "output_type": "execute_result",
          "data": {
            "text/html": [
              "<div>\n",
              "<style scoped>\n",
              "    .dataframe tbody tr th:only-of-type {\n",
              "        vertical-align: middle;\n",
              "    }\n",
              "\n",
              "    .dataframe tbody tr th {\n",
              "        vertical-align: top;\n",
              "    }\n",
              "\n",
              "    .dataframe thead th {\n",
              "        text-align: right;\n",
              "    }\n",
              "</style>\n",
              "<table border=\"1\" class=\"dataframe\">\n",
              "  <thead>\n",
              "    <tr style=\"text-align: right;\">\n",
              "      <th></th>\n",
              "      <th>A</th>\n",
              "      <th>B</th>\n",
              "      <th>C</th>\n",
              "      <th>D</th>\n",
              "      <th>F</th>\n",
              "      <th>G</th>\n",
              "      <th>H</th>\n",
              "    </tr>\n",
              "  </thead>\n",
              "  <tbody>\n",
              "    <tr>\n",
              "      <th>0</th>\n",
              "      <td>A0</td>\n",
              "      <td>B0</td>\n",
              "      <td>C0</td>\n",
              "      <td>D0</td>\n",
              "      <td>B4</td>\n",
              "      <td>C4</td>\n",
              "      <td>D4</td>\n",
              "    </tr>\n",
              "    <tr>\n",
              "      <th>1</th>\n",
              "      <td>A1</td>\n",
              "      <td>B1</td>\n",
              "      <td>C1</td>\n",
              "      <td>D1</td>\n",
              "      <td>B5</td>\n",
              "      <td>C5</td>\n",
              "      <td>D5</td>\n",
              "    </tr>\n",
              "    <tr>\n",
              "      <th>2</th>\n",
              "      <td>A6</td>\n",
              "      <td>NaN</td>\n",
              "      <td>NaN</td>\n",
              "      <td>NaN</td>\n",
              "      <td>B6</td>\n",
              "      <td>C6</td>\n",
              "      <td>D6</td>\n",
              "    </tr>\n",
              "    <tr>\n",
              "      <th>3</th>\n",
              "      <td>A7</td>\n",
              "      <td>NaN</td>\n",
              "      <td>NaN</td>\n",
              "      <td>NaN</td>\n",
              "      <td>B7</td>\n",
              "      <td>C7</td>\n",
              "      <td>D7</td>\n",
              "    </tr>\n",
              "  </tbody>\n",
              "</table>\n",
              "</div>"
            ],
            "text/plain": [
              "    A    B    C    D   F   G   H\n",
              "0  A0   B0   C0   D0  B4  C4  D4\n",
              "1  A1   B1   C1   D1  B5  C5  D5\n",
              "2  A6  NaN  NaN  NaN  B6  C6  D6\n",
              "3  A7  NaN  NaN  NaN  B7  C7  D7"
            ]
          },
          "metadata": {
            "tags": []
          },
          "execution_count": 14
        }
      ]
    },
    {
      "cell_type": "code",
      "metadata": {
        "id": "tVV289EmOeHd",
        "colab_type": "code",
        "colab": {}
      },
      "source": [
        "# You could get an error if you have a different version of JAVA on the machine \n",
        "#lefts.join(rights,on='A',how='right').orderBy('A',ascending=True).show()"
      ],
      "execution_count": 0,
      "outputs": []
    },
    {
      "cell_type": "markdown",
      "metadata": {
        "id": "dxGZpt-0OyPT",
        "colab_type": "text"
      },
      "source": [
        "**INNER JOIN** "
      ]
    },
    {
      "cell_type": "code",
      "metadata": {
        "id": "Uae134eyOeKo",
        "colab_type": "code",
        "outputId": "4a0ae2e5-2d9d-4b22-9f5e-073a8ecad474",
        "colab": {
          "base_uri": "https://localhost:8080/",
          "height": 111
        }
      },
      "source": [
        "leftp.merge(rightp,on='A',how='inner')"
      ],
      "execution_count": 0,
      "outputs": [
        {
          "output_type": "execute_result",
          "data": {
            "text/html": [
              "<div>\n",
              "<style scoped>\n",
              "    .dataframe tbody tr th:only-of-type {\n",
              "        vertical-align: middle;\n",
              "    }\n",
              "\n",
              "    .dataframe tbody tr th {\n",
              "        vertical-align: top;\n",
              "    }\n",
              "\n",
              "    .dataframe thead th {\n",
              "        text-align: right;\n",
              "    }\n",
              "</style>\n",
              "<table border=\"1\" class=\"dataframe\">\n",
              "  <thead>\n",
              "    <tr style=\"text-align: right;\">\n",
              "      <th></th>\n",
              "      <th>A</th>\n",
              "      <th>B</th>\n",
              "      <th>C</th>\n",
              "      <th>D</th>\n",
              "      <th>F</th>\n",
              "      <th>G</th>\n",
              "      <th>H</th>\n",
              "    </tr>\n",
              "  </thead>\n",
              "  <tbody>\n",
              "    <tr>\n",
              "      <th>0</th>\n",
              "      <td>A0</td>\n",
              "      <td>B0</td>\n",
              "      <td>C0</td>\n",
              "      <td>D0</td>\n",
              "      <td>B4</td>\n",
              "      <td>C4</td>\n",
              "      <td>D4</td>\n",
              "    </tr>\n",
              "    <tr>\n",
              "      <th>1</th>\n",
              "      <td>A1</td>\n",
              "      <td>B1</td>\n",
              "      <td>C1</td>\n",
              "      <td>D1</td>\n",
              "      <td>B5</td>\n",
              "      <td>C5</td>\n",
              "      <td>D5</td>\n",
              "    </tr>\n",
              "  </tbody>\n",
              "</table>\n",
              "</div>"
            ],
            "text/plain": [
              "    A   B   C   D   F   G   H\n",
              "0  A0  B0  C0  D0  B4  C4  D4\n",
              "1  A1  B1  C1  D1  B5  C5  D5"
            ]
          },
          "metadata": {
            "tags": []
          },
          "execution_count": 16
        }
      ]
    },
    {
      "cell_type": "code",
      "metadata": {
        "id": "34Z-OU-fOvat",
        "colab_type": "code",
        "outputId": "c7c4f2ae-ef39-4168-f816-af75ede7aa83",
        "colab": {
          "base_uri": "https://localhost:8080/",
          "height": 136
        }
      },
      "source": [
        " lefts.join(rights,on='A',how='inner').orderBy('A',ascending=True).show()"
      ],
      "execution_count": 0,
      "outputs": [
        {
          "output_type": "stream",
          "text": [
            "+---+---+---+---+---+---+---+\n",
            "|  A|  B|  C|  D|  F|  G|  H|\n",
            "+---+---+---+---+---+---+---+\n",
            "| A0| B0| C0| D0| B4| C4| D4|\n",
            "| A1| B1| C1| D1| B5| C5| D5|\n",
            "+---+---+---+---+---+---+---+\n",
            "\n"
          ],
          "name": "stdout"
        }
      ]
    },
    {
      "cell_type": "markdown",
      "metadata": {
        "id": "agCiVTMzPAbT",
        "colab_type": "text"
      },
      "source": [
        "**FULL JOIN** "
      ]
    },
    {
      "cell_type": "code",
      "metadata": {
        "id": "3JEGJNNtOeNb",
        "colab_type": "code",
        "outputId": "189c1004-32b2-4e02-85d0-29f2bf40243e",
        "colab": {
          "base_uri": "https://localhost:8080/",
          "height": 235
        }
      },
      "source": [
        "leftp.merge(rightp,on='A',how='outer')"
      ],
      "execution_count": 0,
      "outputs": [
        {
          "output_type": "execute_result",
          "data": {
            "text/html": [
              "<div>\n",
              "<style scoped>\n",
              "    .dataframe tbody tr th:only-of-type {\n",
              "        vertical-align: middle;\n",
              "    }\n",
              "\n",
              "    .dataframe tbody tr th {\n",
              "        vertical-align: top;\n",
              "    }\n",
              "\n",
              "    .dataframe thead th {\n",
              "        text-align: right;\n",
              "    }\n",
              "</style>\n",
              "<table border=\"1\" class=\"dataframe\">\n",
              "  <thead>\n",
              "    <tr style=\"text-align: right;\">\n",
              "      <th></th>\n",
              "      <th>A</th>\n",
              "      <th>B</th>\n",
              "      <th>C</th>\n",
              "      <th>D</th>\n",
              "      <th>F</th>\n",
              "      <th>G</th>\n",
              "      <th>H</th>\n",
              "    </tr>\n",
              "  </thead>\n",
              "  <tbody>\n",
              "    <tr>\n",
              "      <th>0</th>\n",
              "      <td>A0</td>\n",
              "      <td>B0</td>\n",
              "      <td>C0</td>\n",
              "      <td>D0</td>\n",
              "      <td>B4</td>\n",
              "      <td>C4</td>\n",
              "      <td>D4</td>\n",
              "    </tr>\n",
              "    <tr>\n",
              "      <th>1</th>\n",
              "      <td>A1</td>\n",
              "      <td>B1</td>\n",
              "      <td>C1</td>\n",
              "      <td>D1</td>\n",
              "      <td>B5</td>\n",
              "      <td>C5</td>\n",
              "      <td>D5</td>\n",
              "    </tr>\n",
              "    <tr>\n",
              "      <th>2</th>\n",
              "      <td>A2</td>\n",
              "      <td>B2</td>\n",
              "      <td>C2</td>\n",
              "      <td>D2</td>\n",
              "      <td>NaN</td>\n",
              "      <td>NaN</td>\n",
              "      <td>NaN</td>\n",
              "    </tr>\n",
              "    <tr>\n",
              "      <th>3</th>\n",
              "      <td>A3</td>\n",
              "      <td>B3</td>\n",
              "      <td>C3</td>\n",
              "      <td>D3</td>\n",
              "      <td>NaN</td>\n",
              "      <td>NaN</td>\n",
              "      <td>NaN</td>\n",
              "    </tr>\n",
              "    <tr>\n",
              "      <th>4</th>\n",
              "      <td>A6</td>\n",
              "      <td>NaN</td>\n",
              "      <td>NaN</td>\n",
              "      <td>NaN</td>\n",
              "      <td>B6</td>\n",
              "      <td>C6</td>\n",
              "      <td>D6</td>\n",
              "    </tr>\n",
              "    <tr>\n",
              "      <th>5</th>\n",
              "      <td>A7</td>\n",
              "      <td>NaN</td>\n",
              "      <td>NaN</td>\n",
              "      <td>NaN</td>\n",
              "      <td>B7</td>\n",
              "      <td>C7</td>\n",
              "      <td>D7</td>\n",
              "    </tr>\n",
              "  </tbody>\n",
              "</table>\n",
              "</div>"
            ],
            "text/plain": [
              "    A    B    C    D    F    G    H\n",
              "0  A0   B0   C0   D0   B4   C4   D4\n",
              "1  A1   B1   C1   D1   B5   C5   D5\n",
              "2  A2   B2   C2   D2  NaN  NaN  NaN\n",
              "3  A3   B3   C3   D3  NaN  NaN  NaN\n",
              "4  A6  NaN  NaN  NaN   B6   C6   D6\n",
              "5  A7  NaN  NaN  NaN   B7   C7   D7"
            ]
          },
          "metadata": {
            "tags": []
          },
          "execution_count": 21
        }
      ]
    },
    {
      "cell_type": "code",
      "metadata": {
        "id": "OUgJusSoPGI9",
        "colab_type": "code",
        "colab": {}
      },
      "source": [
        "#lefts.join(rights,on='A',how='full').orderBy('A',ascending=True).show()"
      ],
      "execution_count": 0,
      "outputs": []
    },
    {
      "cell_type": "markdown",
      "metadata": {
        "id": "XkHzNL-yPfsf",
        "colab_type": "text"
      },
      "source": [
        "# **Concat Columns**"
      ]
    },
    {
      "cell_type": "code",
      "metadata": {
        "id": "zsoE_8kcPZ_1",
        "colab_type": "code",
        "colab": {}
      },
      "source": [
        "my_list = [('a', 2, 3),\n",
        "           ('b', 5, 6),\n",
        "           ('c', 8, 9),\n",
        "           ('a', 2, 3),\n",
        "           ('b', 5, 6),\n",
        "           ('c', 8, 9)]\n",
        "col_name = ['col1', 'col2', 'col3']\n",
        "#\n",
        "dp = pd.DataFrame(my_list,columns=col_name)\n",
        "ds = spark.createDataFrame(my_list,schema=col_name)"
      ],
      "execution_count": 0,
      "outputs": []
    },
    {
      "cell_type": "code",
      "metadata": {
        "id": "JaXVCQwZP1eK",
        "colab_type": "code",
        "outputId": "5e46b502-a300-4acd-962d-8b6f88e1a0fa",
        "colab": {
          "base_uri": "https://localhost:8080/",
          "height": 235
        }
      },
      "source": [
        "dp['concat'] = dp.apply(lambda x:'%s%s'%(x['col1'],x['col2']),axis=1) \n",
        "dp"
      ],
      "execution_count": 0,
      "outputs": [
        {
          "output_type": "execute_result",
          "data": {
            "text/html": [
              "<div>\n",
              "<style scoped>\n",
              "    .dataframe tbody tr th:only-of-type {\n",
              "        vertical-align: middle;\n",
              "    }\n",
              "\n",
              "    .dataframe tbody tr th {\n",
              "        vertical-align: top;\n",
              "    }\n",
              "\n",
              "    .dataframe thead th {\n",
              "        text-align: right;\n",
              "    }\n",
              "</style>\n",
              "<table border=\"1\" class=\"dataframe\">\n",
              "  <thead>\n",
              "    <tr style=\"text-align: right;\">\n",
              "      <th></th>\n",
              "      <th>col1</th>\n",
              "      <th>col2</th>\n",
              "      <th>col3</th>\n",
              "      <th>concat</th>\n",
              "    </tr>\n",
              "  </thead>\n",
              "  <tbody>\n",
              "    <tr>\n",
              "      <th>0</th>\n",
              "      <td>a</td>\n",
              "      <td>2</td>\n",
              "      <td>3</td>\n",
              "      <td>a2</td>\n",
              "    </tr>\n",
              "    <tr>\n",
              "      <th>1</th>\n",
              "      <td>b</td>\n",
              "      <td>5</td>\n",
              "      <td>6</td>\n",
              "      <td>b5</td>\n",
              "    </tr>\n",
              "    <tr>\n",
              "      <th>2</th>\n",
              "      <td>c</td>\n",
              "      <td>8</td>\n",
              "      <td>9</td>\n",
              "      <td>c8</td>\n",
              "    </tr>\n",
              "    <tr>\n",
              "      <th>3</th>\n",
              "      <td>a</td>\n",
              "      <td>2</td>\n",
              "      <td>3</td>\n",
              "      <td>a2</td>\n",
              "    </tr>\n",
              "    <tr>\n",
              "      <th>4</th>\n",
              "      <td>b</td>\n",
              "      <td>5</td>\n",
              "      <td>6</td>\n",
              "      <td>b5</td>\n",
              "    </tr>\n",
              "    <tr>\n",
              "      <th>5</th>\n",
              "      <td>c</td>\n",
              "      <td>8</td>\n",
              "      <td>9</td>\n",
              "      <td>c8</td>\n",
              "    </tr>\n",
              "  </tbody>\n",
              "</table>\n",
              "</div>"
            ],
            "text/plain": [
              "  col1  col2  col3 concat\n",
              "0    a     2     3     a2\n",
              "1    b     5     6     b5\n",
              "2    c     8     9     c8\n",
              "3    a     2     3     a2\n",
              "4    b     5     6     b5\n",
              "5    c     8     9     c8"
            ]
          },
          "metadata": {
            "tags": []
          },
          "execution_count": 25
        }
      ]
    },
    {
      "cell_type": "code",
      "metadata": {
        "id": "wGiOTXUlP7HD",
        "colab_type": "code",
        "outputId": "6acb2ec6-67cc-462e-9e67-27115f1f9875",
        "colab": {
          "base_uri": "https://localhost:8080/",
          "height": 204
        }
      },
      "source": [
        "from pyspark.sql import functions as F\n",
        "ds.withColumn('concat',F.concat('col1','col2')).show()"
      ],
      "execution_count": 0,
      "outputs": [
        {
          "output_type": "stream",
          "text": [
            "+----+----+----+------+\n",
            "|col1|col2|col3|concat|\n",
            "+----+----+----+------+\n",
            "|   a|   2|   3|    a2|\n",
            "|   b|   5|   6|    b5|\n",
            "|   c|   8|   9|    c8|\n",
            "|   a|   2|   3|    a2|\n",
            "|   b|   5|   6|    b5|\n",
            "|   c|   8|   9|    c8|\n",
            "+----+----+----+------+\n",
            "\n"
          ],
          "name": "stdout"
        }
      ]
    },
    {
      "cell_type": "markdown",
      "metadata": {
        "id": "DZnWrOaYQe_G",
        "colab_type": "text"
      },
      "source": [
        "# **Group By**\n"
      ]
    },
    {
      "cell_type": "code",
      "metadata": {
        "id": "F0UB4f_KQjQH",
        "colab_type": "code",
        "outputId": "af551ea1-fa3f-4fbc-b206-afff14bd6bcf",
        "colab": {
          "base_uri": "https://localhost:8080/",
          "height": 173
        }
      },
      "source": [
        "dp.groupby(['col1']).agg({'col2':'min','col3':'mean'})"
      ],
      "execution_count": 0,
      "outputs": [
        {
          "output_type": "execute_result",
          "data": {
            "text/html": [
              "<div>\n",
              "<style scoped>\n",
              "    .dataframe tbody tr th:only-of-type {\n",
              "        vertical-align: middle;\n",
              "    }\n",
              "\n",
              "    .dataframe tbody tr th {\n",
              "        vertical-align: top;\n",
              "    }\n",
              "\n",
              "    .dataframe thead th {\n",
              "        text-align: right;\n",
              "    }\n",
              "</style>\n",
              "<table border=\"1\" class=\"dataframe\">\n",
              "  <thead>\n",
              "    <tr style=\"text-align: right;\">\n",
              "      <th></th>\n",
              "      <th>col2</th>\n",
              "      <th>col3</th>\n",
              "    </tr>\n",
              "    <tr>\n",
              "      <th>col1</th>\n",
              "      <th></th>\n",
              "      <th></th>\n",
              "    </tr>\n",
              "  </thead>\n",
              "  <tbody>\n",
              "    <tr>\n",
              "      <th>a</th>\n",
              "      <td>2</td>\n",
              "      <td>3</td>\n",
              "    </tr>\n",
              "    <tr>\n",
              "      <th>b</th>\n",
              "      <td>5</td>\n",
              "      <td>6</td>\n",
              "    </tr>\n",
              "    <tr>\n",
              "      <th>c</th>\n",
              "      <td>8</td>\n",
              "      <td>9</td>\n",
              "    </tr>\n",
              "  </tbody>\n",
              "</table>\n",
              "</div>"
            ],
            "text/plain": [
              "      col2  col3\n",
              "col1            \n",
              "a        2     3\n",
              "b        5     6\n",
              "c        8     9"
            ]
          },
          "metadata": {
            "tags": []
          },
          "execution_count": 28
        }
      ]
    },
    {
      "cell_type": "code",
      "metadata": {
        "id": "zd6h1_uaQjSp",
        "colab_type": "code",
        "outputId": "11c81b78-75c8-45bf-9964-013e62bf2c57",
        "colab": {
          "base_uri": "https://localhost:8080/",
          "height": 153
        }
      },
      "source": [
        "ds.groupBy(['col1']).agg({'col2': 'min', 'col3': 'avg'}).show()"
      ],
      "execution_count": 0,
      "outputs": [
        {
          "output_type": "stream",
          "text": [
            "+----+---------+---------+\n",
            "|col1|min(col2)|avg(col3)|\n",
            "+----+---------+---------+\n",
            "|   c|        8|      9.0|\n",
            "|   b|        5|      6.0|\n",
            "|   a|        2|      3.0|\n",
            "+----+---------+---------+\n",
            "\n"
          ],
          "name": "stdout"
        }
      ]
    },
    {
      "cell_type": "markdown",
      "metadata": {
        "id": "-EIEW7RkQ6F6",
        "colab_type": "text"
      },
      "source": [
        "# **Pivot**"
      ]
    },
    {
      "cell_type": "code",
      "metadata": {
        "id": "0j80q69bQjVX",
        "colab_type": "code",
        "outputId": "02ccc8ee-fae1-4f3b-a105-d93389aaee2a",
        "colab": {
          "base_uri": "https://localhost:8080/",
          "height": 173
        }
      },
      "source": [
        "import numpy as np\n",
        "pd.pivot_table(dp, values='col3', index='col1', columns='col2', aggfunc=np.sum)\n"
      ],
      "execution_count": 0,
      "outputs": [
        {
          "output_type": "execute_result",
          "data": {
            "text/html": [
              "<div>\n",
              "<style scoped>\n",
              "    .dataframe tbody tr th:only-of-type {\n",
              "        vertical-align: middle;\n",
              "    }\n",
              "\n",
              "    .dataframe tbody tr th {\n",
              "        vertical-align: top;\n",
              "    }\n",
              "\n",
              "    .dataframe thead th {\n",
              "        text-align: right;\n",
              "    }\n",
              "</style>\n",
              "<table border=\"1\" class=\"dataframe\">\n",
              "  <thead>\n",
              "    <tr style=\"text-align: right;\">\n",
              "      <th>col2</th>\n",
              "      <th>2</th>\n",
              "      <th>5</th>\n",
              "      <th>8</th>\n",
              "    </tr>\n",
              "    <tr>\n",
              "      <th>col1</th>\n",
              "      <th></th>\n",
              "      <th></th>\n",
              "      <th></th>\n",
              "    </tr>\n",
              "  </thead>\n",
              "  <tbody>\n",
              "    <tr>\n",
              "      <th>a</th>\n",
              "      <td>6.0</td>\n",
              "      <td>NaN</td>\n",
              "      <td>NaN</td>\n",
              "    </tr>\n",
              "    <tr>\n",
              "      <th>b</th>\n",
              "      <td>NaN</td>\n",
              "      <td>12.0</td>\n",
              "      <td>NaN</td>\n",
              "    </tr>\n",
              "    <tr>\n",
              "      <th>c</th>\n",
              "      <td>NaN</td>\n",
              "      <td>NaN</td>\n",
              "      <td>18.0</td>\n",
              "    </tr>\n",
              "  </tbody>\n",
              "</table>\n",
              "</div>"
            ],
            "text/plain": [
              "col2    2     5     8\n",
              "col1                 \n",
              "a     6.0   NaN   NaN\n",
              "b     NaN  12.0   NaN\n",
              "c     NaN   NaN  18.0"
            ]
          },
          "metadata": {
            "tags": []
          },
          "execution_count": 31
        }
      ]
    },
    {
      "cell_type": "code",
      "metadata": {
        "id": "jSIKwKv_QjZl",
        "colab_type": "code",
        "colab": {}
      },
      "source": [
        "#ds.groupBy(['col1']).pivot('col2').sum('col3').show()"
      ],
      "execution_count": 0,
      "outputs": []
    },
    {
      "cell_type": "markdown",
      "metadata": {
        "id": "KrDQ8gHcRM48",
        "colab_type": "text"
      },
      "source": [
        "# **Window**"
      ]
    },
    {
      "cell_type": "code",
      "metadata": {
        "id": "hgpX9KFBQjjc",
        "colab_type": "code",
        "colab": {}
      },
      "source": [
        "d = {'A':['a','b','c','d'],'B':['m','m','n','n'],'C':[1,2,3,6]}\n",
        "dp = pd.DataFrame(d)\n",
        "ds = spark.createDataFrame(dp)"
      ],
      "execution_count": 0,
      "outputs": []
    },
    {
      "cell_type": "code",
      "metadata": {
        "id": "DPWVHUXmQjn1",
        "colab_type": "code",
        "colab": {}
      },
      "source": [
        "dp['rank'] = dp.groupby('B')['C'].rank('dense',ascending=False) #\n",
        "from pyspark.sql.window import Window\n",
        "w = Window.partitionBy('B').orderBy(ds.C.desc())\n",
        "ds = ds.withColumn('rank',F.rank().over(w))"
      ],
      "execution_count": 0,
      "outputs": []
    },
    {
      "cell_type": "code",
      "metadata": {
        "id": "CAAUnTcPQjqd",
        "colab_type": "code",
        "colab": {}
      },
      "source": [
        "#ds.show()"
      ],
      "execution_count": 0,
      "outputs": []
    },
    {
      "cell_type": "markdown",
      "metadata": {
        "id": "aJ4fOt89Rk2U",
        "colab_type": "text"
      },
      "source": [
        "# **Rank vs Dense Rank**"
      ]
    },
    {
      "cell_type": "code",
      "metadata": {
        "id": "c2pIvbqaQjs-",
        "colab_type": "code",
        "colab": {}
      },
      "source": [
        "d ={'Id':[1,2,3,4,5,6],\n",
        "    'Score': [4.00, 4.00, 3.85, 3.65, 3.65, 3.50]}\n",
        "#\n",
        "data = pd.DataFrame(d)\n",
        "dp = data.copy()\n",
        "ds = spark.createDataFrame(data)"
      ],
      "execution_count": 0,
      "outputs": []
    },
    {
      "cell_type": "code",
      "metadata": {
        "id": "8eCnCPf1Qjvz",
        "colab_type": "code",
        "colab": {}
      },
      "source": [
        "dp['Rank_dense'] = dp['Score'].rank(method='dense',ascending =False) \n",
        "dp['Rank'] = dp['Score'].rank(method='min',ascending =False)\n",
        "dp\n",
        "#\n",
        "import pyspark.sql.functions as F\n",
        "from pyspark.sql.window import Window\n",
        "w = Window.orderBy(ds.Score.desc())\n",
        "ds = ds.withColumn('Rank_spark_dense',F.dense_rank().over(w)) \n",
        "ds = ds.withColumn('Rank_spark',F.rank().over(w))\n",
        "#ds.show()"
      ],
      "execution_count": 0,
      "outputs": []
    }
  ]
}