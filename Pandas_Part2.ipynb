{
  "nbformat": 4,
  "nbformat_minor": 0,
  "metadata": {
    "colab": {
      "name": "Pandas_Part2.ipynb",
      "provenance": [],
      "include_colab_link": true
    },
    "kernelspec": {
      "name": "python3",
      "display_name": "Python 3"
    }
  },
  "cells": [
    {
      "cell_type": "markdown",
      "metadata": {
        "id": "view-in-github",
        "colab_type": "text"
      },
      "source": [
        "<a href=\"https://colab.research.google.com/github/shreejitp/Python/blob/master/Pandas_Part2.ipynb\" target=\"_parent\"><img src=\"https://colab.research.google.com/assets/colab-badge.svg\" alt=\"Open In Colab\"/></a>"
      ]
    },
    {
      "cell_type": "code",
      "metadata": {
        "id": "3znJ3Dh9Jd8V",
        "colab_type": "code",
        "colab": {}
      },
      "source": [
        ""
      ],
      "execution_count": 0,
      "outputs": []
    },
    {
      "cell_type": "markdown",
      "metadata": {
        "id": "OehlqzAGKBQi",
        "colab_type": "text"
      },
      "source": [
        "#Summarizing and Computing Descriptive Statistics "
      ]
    },
    {
      "cell_type": "code",
      "metadata": {
        "id": "Iwm8eDYVKKWO",
        "colab_type": "code",
        "colab": {}
      },
      "source": [
        "import pandas as pd \n",
        "import numpy as np"
      ],
      "execution_count": 0,
      "outputs": []
    },
    {
      "cell_type": "code",
      "metadata": {
        "id": "kPrXFGmcKoab",
        "colab_type": "code",
        "outputId": "c57d1e62-64d8-4370-b27c-06ba441472ff",
        "colab": {
          "base_uri": "https://localhost:8080/",
          "height": 173
        }
      },
      "source": [
        "df = pd.DataFrame([[1.4, np.nan], [7.1, -4.5],\n",
        "                   [np.nan, np.nan], [0.75, -1.3]],\n",
        "                  index=['a', 'b', 'c', 'd'],\n",
        "                  columns=['one', 'two'])\n",
        "\n",
        "df"
      ],
      "execution_count": 0,
      "outputs": [
        {
          "output_type": "execute_result",
          "data": {
            "text/html": [
              "<div>\n",
              "<style scoped>\n",
              "    .dataframe tbody tr th:only-of-type {\n",
              "        vertical-align: middle;\n",
              "    }\n",
              "\n",
              "    .dataframe tbody tr th {\n",
              "        vertical-align: top;\n",
              "    }\n",
              "\n",
              "    .dataframe thead th {\n",
              "        text-align: right;\n",
              "    }\n",
              "</style>\n",
              "<table border=\"1\" class=\"dataframe\">\n",
              "  <thead>\n",
              "    <tr style=\"text-align: right;\">\n",
              "      <th></th>\n",
              "      <th>one</th>\n",
              "      <th>two</th>\n",
              "    </tr>\n",
              "  </thead>\n",
              "  <tbody>\n",
              "    <tr>\n",
              "      <th>a</th>\n",
              "      <td>1.40</td>\n",
              "      <td>NaN</td>\n",
              "    </tr>\n",
              "    <tr>\n",
              "      <th>b</th>\n",
              "      <td>7.10</td>\n",
              "      <td>-4.5</td>\n",
              "    </tr>\n",
              "    <tr>\n",
              "      <th>c</th>\n",
              "      <td>NaN</td>\n",
              "      <td>NaN</td>\n",
              "    </tr>\n",
              "    <tr>\n",
              "      <th>d</th>\n",
              "      <td>0.75</td>\n",
              "      <td>-1.3</td>\n",
              "    </tr>\n",
              "  </tbody>\n",
              "</table>\n",
              "</div>"
            ],
            "text/plain": [
              "    one  two\n",
              "a  1.40  NaN\n",
              "b  7.10 -4.5\n",
              "c   NaN  NaN\n",
              "d  0.75 -1.3"
            ]
          },
          "metadata": {
            "tags": []
          },
          "execution_count": 3
        }
      ]
    },
    {
      "cell_type": "code",
      "metadata": {
        "id": "TVsghkQSKoiw",
        "colab_type": "code",
        "outputId": "af1d56ee-0027-4e1a-b81a-79021205cd30",
        "colab": {
          "base_uri": "https://localhost:8080/",
          "height": 68
        }
      },
      "source": [
        "# Sum returns a series with sum of columns \n",
        "df.sum()"
      ],
      "execution_count": 0,
      "outputs": [
        {
          "output_type": "execute_result",
          "data": {
            "text/plain": [
              "one    9.25\n",
              "two   -5.80\n",
              "dtype: float64"
            ]
          },
          "metadata": {
            "tags": []
          },
          "execution_count": 4
        }
      ]
    },
    {
      "cell_type": "code",
      "metadata": {
        "id": "KxlmUh-GKom0",
        "colab_type": "code",
        "outputId": "9ef33074-1a47-4120-e72f-d37c81757e6f",
        "colab": {
          "base_uri": "https://localhost:8080/",
          "height": 102
        }
      },
      "source": [
        "#Getting Sum across columns by using axis=1\n",
        "df.sum(axis=1)"
      ],
      "execution_count": 0,
      "outputs": [
        {
          "output_type": "execute_result",
          "data": {
            "text/plain": [
              "a    1.40\n",
              "b    2.60\n",
              "c    0.00\n",
              "d   -0.55\n",
              "dtype: float64"
            ]
          },
          "metadata": {
            "tags": []
          },
          "execution_count": 5
        }
      ]
    },
    {
      "cell_type": "code",
      "metadata": {
        "id": "GT3op2PhKopo",
        "colab_type": "code",
        "outputId": "8edf99e2-5a1d-448a-e7d9-5964316917a3",
        "colab": {
          "base_uri": "https://localhost:8080/",
          "height": 102
        }
      },
      "source": [
        "#using the skipna parameter \n",
        "df.mean(axis='columns', skipna=False)"
      ],
      "execution_count": 0,
      "outputs": [
        {
          "output_type": "execute_result",
          "data": {
            "text/plain": [
              "a      NaN\n",
              "b    1.300\n",
              "c      NaN\n",
              "d   -0.275\n",
              "dtype: float64"
            ]
          },
          "metadata": {
            "tags": []
          },
          "execution_count": 8
        }
      ]
    },
    {
      "cell_type": "code",
      "metadata": {
        "id": "04kDPSJgKosP",
        "colab_type": "code",
        "outputId": "ceb3cba7-62a3-46e2-c80e-0ddff7aeaffa",
        "colab": {
          "base_uri": "https://localhost:8080/",
          "height": 68
        }
      },
      "source": [
        "#Some methods, like idxmin and idxmax, return indirect statistics like the index value where the minimum or maximum values are attained\n",
        "df.idxmax()"
      ],
      "execution_count": 0,
      "outputs": [
        {
          "output_type": "execute_result",
          "data": {
            "text/plain": [
              "one    b\n",
              "two    d\n",
              "dtype: object"
            ]
          },
          "metadata": {
            "tags": []
          },
          "execution_count": 10
        }
      ]
    },
    {
      "cell_type": "markdown",
      "metadata": {
        "id": "yAwfM4xzL9tl",
        "colab_type": "text"
      },
      "source": [
        "Describe is one such example, producing multiple summary statistics in one shot"
      ]
    },
    {
      "cell_type": "code",
      "metadata": {
        "id": "8dDl68MVKovE",
        "colab_type": "code",
        "outputId": "17d80095-8d83-4b50-88d5-4cd3f7518dd5",
        "colab": {
          "base_uri": "https://localhost:8080/",
          "height": 297
        }
      },
      "source": [
        "#df.describe()\n",
        "# If you want to describe some specific columns \n",
        "df[['one','two']].describe()"
      ],
      "execution_count": 0,
      "outputs": [
        {
          "output_type": "execute_result",
          "data": {
            "text/html": [
              "<div>\n",
              "<style scoped>\n",
              "    .dataframe tbody tr th:only-of-type {\n",
              "        vertical-align: middle;\n",
              "    }\n",
              "\n",
              "    .dataframe tbody tr th {\n",
              "        vertical-align: top;\n",
              "    }\n",
              "\n",
              "    .dataframe thead th {\n",
              "        text-align: right;\n",
              "    }\n",
              "</style>\n",
              "<table border=\"1\" class=\"dataframe\">\n",
              "  <thead>\n",
              "    <tr style=\"text-align: right;\">\n",
              "      <th></th>\n",
              "      <th>one</th>\n",
              "      <th>two</th>\n",
              "    </tr>\n",
              "  </thead>\n",
              "  <tbody>\n",
              "    <tr>\n",
              "      <th>count</th>\n",
              "      <td>3.000000</td>\n",
              "      <td>2.000000</td>\n",
              "    </tr>\n",
              "    <tr>\n",
              "      <th>mean</th>\n",
              "      <td>3.083333</td>\n",
              "      <td>-2.900000</td>\n",
              "    </tr>\n",
              "    <tr>\n",
              "      <th>std</th>\n",
              "      <td>3.493685</td>\n",
              "      <td>2.262742</td>\n",
              "    </tr>\n",
              "    <tr>\n",
              "      <th>min</th>\n",
              "      <td>0.750000</td>\n",
              "      <td>-4.500000</td>\n",
              "    </tr>\n",
              "    <tr>\n",
              "      <th>25%</th>\n",
              "      <td>1.075000</td>\n",
              "      <td>-3.700000</td>\n",
              "    </tr>\n",
              "    <tr>\n",
              "      <th>50%</th>\n",
              "      <td>1.400000</td>\n",
              "      <td>-2.900000</td>\n",
              "    </tr>\n",
              "    <tr>\n",
              "      <th>75%</th>\n",
              "      <td>4.250000</td>\n",
              "      <td>-2.100000</td>\n",
              "    </tr>\n",
              "    <tr>\n",
              "      <th>max</th>\n",
              "      <td>7.100000</td>\n",
              "      <td>-1.300000</td>\n",
              "    </tr>\n",
              "  </tbody>\n",
              "</table>\n",
              "</div>"
            ],
            "text/plain": [
              "            one       two\n",
              "count  3.000000  2.000000\n",
              "mean   3.083333 -2.900000\n",
              "std    3.493685  2.262742\n",
              "min    0.750000 -4.500000\n",
              "25%    1.075000 -3.700000\n",
              "50%    1.400000 -2.900000\n",
              "75%    4.250000 -2.100000\n",
              "max    7.100000 -1.300000"
            ]
          },
          "metadata": {
            "tags": []
          },
          "execution_count": 18
        }
      ]
    },
    {
      "cell_type": "markdown",
      "metadata": {
        "id": "MWJ-WVH8NMVw",
        "colab_type": "text"
      },
      "source": [
        "#Correlation and Covariance "
      ]
    },
    {
      "cell_type": "code",
      "metadata": {
        "id": "8_PQlFHhNPi4",
        "colab_type": "code",
        "outputId": "4afe177a-64c1-47e3-b11c-01c5786a7d18",
        "colab": {
          "base_uri": "https://localhost:8080/",
          "height": 238
        }
      },
      "source": [
        "!pip install pandas-datareader"
      ],
      "execution_count": 0,
      "outputs": [
        {
          "output_type": "stream",
          "text": [
            "Requirement already satisfied: pandas-datareader in /usr/local/lib/python3.6/dist-packages (0.7.4)\n",
            "Requirement already satisfied: requests>=2.3.0 in /usr/local/lib/python3.6/dist-packages (from pandas-datareader) (2.21.0)\n",
            "Requirement already satisfied: wrapt in /usr/local/lib/python3.6/dist-packages (from pandas-datareader) (1.11.2)\n",
            "Requirement already satisfied: pandas>=0.19.2 in /usr/local/lib/python3.6/dist-packages (from pandas-datareader) (0.25.3)\n",
            "Requirement already satisfied: lxml in /usr/local/lib/python3.6/dist-packages (from pandas-datareader) (4.2.6)\n",
            "Requirement already satisfied: certifi>=2017.4.17 in /usr/local/lib/python3.6/dist-packages (from requests>=2.3.0->pandas-datareader) (2019.9.11)\n",
            "Requirement already satisfied: urllib3<1.25,>=1.21.1 in /usr/local/lib/python3.6/dist-packages (from requests>=2.3.0->pandas-datareader) (1.24.3)\n",
            "Requirement already satisfied: chardet<3.1.0,>=3.0.2 in /usr/local/lib/python3.6/dist-packages (from requests>=2.3.0->pandas-datareader) (3.0.4)\n",
            "Requirement already satisfied: idna<2.9,>=2.5 in /usr/local/lib/python3.6/dist-packages (from requests>=2.3.0->pandas-datareader) (2.8)\n",
            "Requirement already satisfied: python-dateutil>=2.6.1 in /usr/local/lib/python3.6/dist-packages (from pandas>=0.19.2->pandas-datareader) (2.6.1)\n",
            "Requirement already satisfied: pytz>=2017.2 in /usr/local/lib/python3.6/dist-packages (from pandas>=0.19.2->pandas-datareader) (2018.9)\n",
            "Requirement already satisfied: numpy>=1.13.3 in /usr/local/lib/python3.6/dist-packages (from pandas>=0.19.2->pandas-datareader) (1.17.4)\n",
            "Requirement already satisfied: six>=1.5 in /usr/local/lib/python3.6/dist-packages (from python-dateutil>=2.6.1->pandas>=0.19.2->pandas-datareader) (1.12.0)\n"
          ],
          "name": "stdout"
        }
      ]
    },
    {
      "cell_type": "code",
      "metadata": {
        "id": "TW_7lvotNmsG",
        "colab_type": "code",
        "colab": {}
      },
      "source": [
        "#Using the pandas_datareader module to download some data for a few stock tickers\n",
        "import pandas_datareader.data as web"
      ],
      "execution_count": 0,
      "outputs": []
    },
    {
      "cell_type": "code",
      "metadata": {
        "id": "mqp23nE9N2Fh",
        "colab_type": "code",
        "colab": {}
      },
      "source": [
        "all_data = {ticker: web.get_data_yahoo(ticker)\n",
        "for ticker in ['AAPL', 'IBM', 'MSFT', 'GOOG']}"
      ],
      "execution_count": 0,
      "outputs": []
    },
    {
      "cell_type": "code",
      "metadata": {
        "id": "ExciLt4_OO8j",
        "colab_type": "code",
        "colab": {}
      },
      "source": [
        "all_data"
      ],
      "execution_count": 0,
      "outputs": []
    },
    {
      "cell_type": "code",
      "metadata": {
        "id": "YsSEHBLxN2be",
        "colab_type": "code",
        "colab": {}
      },
      "source": [
        "price = pd.DataFrame({ticker: data['Adj Close']\n",
        "for ticker, data in all_data.items()})"
      ],
      "execution_count": 0,
      "outputs": []
    },
    {
      "cell_type": "code",
      "metadata": {
        "id": "-V8h5pQ1OHn6",
        "colab_type": "code",
        "outputId": "fb812f36-7121-4d64-dc83-172cf7c1675e",
        "colab": {
          "base_uri": "https://localhost:8080/",
          "height": 450
        }
      },
      "source": [
        "#price"
      ],
      "execution_count": 0,
      "outputs": [
        {
          "output_type": "execute_result",
          "data": {
            "text/html": [
              "<div>\n",
              "<style scoped>\n",
              "    .dataframe tbody tr th:only-of-type {\n",
              "        vertical-align: middle;\n",
              "    }\n",
              "\n",
              "    .dataframe tbody tr th {\n",
              "        vertical-align: top;\n",
              "    }\n",
              "\n",
              "    .dataframe thead th {\n",
              "        text-align: right;\n",
              "    }\n",
              "</style>\n",
              "<table border=\"1\" class=\"dataframe\">\n",
              "  <thead>\n",
              "    <tr style=\"text-align: right;\">\n",
              "      <th></th>\n",
              "      <th>AAPL</th>\n",
              "      <th>IBM</th>\n",
              "      <th>MSFT</th>\n",
              "      <th>GOOG</th>\n",
              "    </tr>\n",
              "    <tr>\n",
              "      <th>Date</th>\n",
              "      <th></th>\n",
              "      <th></th>\n",
              "      <th></th>\n",
              "      <th></th>\n",
              "    </tr>\n",
              "  </thead>\n",
              "  <tbody>\n",
              "    <tr>\n",
              "      <th>2010-01-04</th>\n",
              "      <td>26.601469</td>\n",
              "      <td>96.997330</td>\n",
              "      <td>24.360727</td>\n",
              "      <td>312.204773</td>\n",
              "    </tr>\n",
              "    <tr>\n",
              "      <th>2010-01-05</th>\n",
              "      <td>26.647457</td>\n",
              "      <td>95.825584</td>\n",
              "      <td>24.368599</td>\n",
              "      <td>310.829926</td>\n",
              "    </tr>\n",
              "    <tr>\n",
              "      <th>2010-01-06</th>\n",
              "      <td>26.223597</td>\n",
              "      <td>95.203102</td>\n",
              "      <td>24.219046</td>\n",
              "      <td>302.994293</td>\n",
              "    </tr>\n",
              "    <tr>\n",
              "      <th>2010-01-07</th>\n",
              "      <td>26.175119</td>\n",
              "      <td>94.873573</td>\n",
              "      <td>23.967175</td>\n",
              "      <td>295.940735</td>\n",
              "    </tr>\n",
              "    <tr>\n",
              "      <th>2010-01-08</th>\n",
              "      <td>26.349140</td>\n",
              "      <td>95.825584</td>\n",
              "      <td>24.132469</td>\n",
              "      <td>299.885956</td>\n",
              "    </tr>\n",
              "    <tr>\n",
              "      <th>...</th>\n",
              "      <td>...</td>\n",
              "      <td>...</td>\n",
              "      <td>...</td>\n",
              "      <td>...</td>\n",
              "    </tr>\n",
              "    <tr>\n",
              "      <th>2019-11-22</th>\n",
              "      <td>261.779999</td>\n",
              "      <td>134.339996</td>\n",
              "      <td>149.589996</td>\n",
              "      <td>1295.339966</td>\n",
              "    </tr>\n",
              "    <tr>\n",
              "      <th>2019-11-25</th>\n",
              "      <td>266.369995</td>\n",
              "      <td>135.970001</td>\n",
              "      <td>151.229996</td>\n",
              "      <td>1306.689941</td>\n",
              "    </tr>\n",
              "    <tr>\n",
              "      <th>2019-11-26</th>\n",
              "      <td>264.290009</td>\n",
              "      <td>135.089996</td>\n",
              "      <td>152.029999</td>\n",
              "      <td>1313.550049</td>\n",
              "    </tr>\n",
              "    <tr>\n",
              "      <th>2019-11-27</th>\n",
              "      <td>267.839996</td>\n",
              "      <td>133.770004</td>\n",
              "      <td>152.320007</td>\n",
              "      <td>1312.989990</td>\n",
              "    </tr>\n",
              "    <tr>\n",
              "      <th>2019-11-29</th>\n",
              "      <td>267.250000</td>\n",
              "      <td>134.449997</td>\n",
              "      <td>151.380005</td>\n",
              "      <td>1304.959961</td>\n",
              "    </tr>\n",
              "  </tbody>\n",
              "</table>\n",
              "<p>2495 rows × 4 columns</p>\n",
              "</div>"
            ],
            "text/plain": [
              "                  AAPL         IBM        MSFT         GOOG\n",
              "Date                                                       \n",
              "2010-01-04   26.601469   96.997330   24.360727   312.204773\n",
              "2010-01-05   26.647457   95.825584   24.368599   310.829926\n",
              "2010-01-06   26.223597   95.203102   24.219046   302.994293\n",
              "2010-01-07   26.175119   94.873573   23.967175   295.940735\n",
              "2010-01-08   26.349140   95.825584   24.132469   299.885956\n",
              "...                ...         ...         ...          ...\n",
              "2019-11-22  261.779999  134.339996  149.589996  1295.339966\n",
              "2019-11-25  266.369995  135.970001  151.229996  1306.689941\n",
              "2019-11-26  264.290009  135.089996  152.029999  1313.550049\n",
              "2019-11-27  267.839996  133.770004  152.320007  1312.989990\n",
              "2019-11-29  267.250000  134.449997  151.380005  1304.959961\n",
              "\n",
              "[2495 rows x 4 columns]"
            ]
          },
          "metadata": {
            "tags": []
          },
          "execution_count": 25
        }
      ]
    },
    {
      "cell_type": "code",
      "metadata": {
        "id": "RJ2L0VHtN2ep",
        "colab_type": "code",
        "colab": {}
      },
      "source": [
        "volume = pd.DataFrame({ticker: data['Volume']\n",
        "for ticker, data in all_data.items()})\n"
      ],
      "execution_count": 0,
      "outputs": []
    },
    {
      "cell_type": "code",
      "metadata": {
        "id": "CFp6HtUoN2hW",
        "colab_type": "code",
        "outputId": "f117d4a5-61da-48a5-a009-4fd2a6f58996",
        "colab": {
          "base_uri": "https://localhost:8080/",
          "height": 450
        }
      },
      "source": [
        "volume"
      ],
      "execution_count": 0,
      "outputs": [
        {
          "output_type": "execute_result",
          "data": {
            "text/html": [
              "<div>\n",
              "<style scoped>\n",
              "    .dataframe tbody tr th:only-of-type {\n",
              "        vertical-align: middle;\n",
              "    }\n",
              "\n",
              "    .dataframe tbody tr th {\n",
              "        vertical-align: top;\n",
              "    }\n",
              "\n",
              "    .dataframe thead th {\n",
              "        text-align: right;\n",
              "    }\n",
              "</style>\n",
              "<table border=\"1\" class=\"dataframe\">\n",
              "  <thead>\n",
              "    <tr style=\"text-align: right;\">\n",
              "      <th></th>\n",
              "      <th>AAPL</th>\n",
              "      <th>IBM</th>\n",
              "      <th>MSFT</th>\n",
              "      <th>GOOG</th>\n",
              "    </tr>\n",
              "    <tr>\n",
              "      <th>Date</th>\n",
              "      <th></th>\n",
              "      <th></th>\n",
              "      <th></th>\n",
              "      <th></th>\n",
              "    </tr>\n",
              "  </thead>\n",
              "  <tbody>\n",
              "    <tr>\n",
              "      <th>2010-01-04</th>\n",
              "      <td>123432400.0</td>\n",
              "      <td>6155300.0</td>\n",
              "      <td>38409100.0</td>\n",
              "      <td>3927000.0</td>\n",
              "    </tr>\n",
              "    <tr>\n",
              "      <th>2010-01-05</th>\n",
              "      <td>150476200.0</td>\n",
              "      <td>6841400.0</td>\n",
              "      <td>49749600.0</td>\n",
              "      <td>6031900.0</td>\n",
              "    </tr>\n",
              "    <tr>\n",
              "      <th>2010-01-06</th>\n",
              "      <td>138040000.0</td>\n",
              "      <td>5605300.0</td>\n",
              "      <td>58182400.0</td>\n",
              "      <td>7987100.0</td>\n",
              "    </tr>\n",
              "    <tr>\n",
              "      <th>2010-01-07</th>\n",
              "      <td>119282800.0</td>\n",
              "      <td>5840600.0</td>\n",
              "      <td>50559700.0</td>\n",
              "      <td>12876600.0</td>\n",
              "    </tr>\n",
              "    <tr>\n",
              "      <th>2010-01-08</th>\n",
              "      <td>111902700.0</td>\n",
              "      <td>4197200.0</td>\n",
              "      <td>51197400.0</td>\n",
              "      <td>9483900.0</td>\n",
              "    </tr>\n",
              "    <tr>\n",
              "      <th>...</th>\n",
              "      <td>...</td>\n",
              "      <td>...</td>\n",
              "      <td>...</td>\n",
              "      <td>...</td>\n",
              "    </tr>\n",
              "    <tr>\n",
              "      <th>2019-11-22</th>\n",
              "      <td>16331300.0</td>\n",
              "      <td>3297500.0</td>\n",
              "      <td>15901800.0</td>\n",
              "      <td>1385700.0</td>\n",
              "    </tr>\n",
              "    <tr>\n",
              "      <th>2019-11-25</th>\n",
              "      <td>21005100.0</td>\n",
              "      <td>2590100.0</td>\n",
              "      <td>22420900.0</td>\n",
              "      <td>1036200.0</td>\n",
              "    </tr>\n",
              "    <tr>\n",
              "      <th>2019-11-26</th>\n",
              "      <td>26301900.0</td>\n",
              "      <td>3793200.0</td>\n",
              "      <td>24620100.0</td>\n",
              "      <td>1069700.0</td>\n",
              "    </tr>\n",
              "    <tr>\n",
              "      <th>2019-11-27</th>\n",
              "      <td>16308900.0</td>\n",
              "      <td>3280900.0</td>\n",
              "      <td>15184400.0</td>\n",
              "      <td>995600.0</td>\n",
              "    </tr>\n",
              "    <tr>\n",
              "      <th>2019-11-29</th>\n",
              "      <td>11654400.0</td>\n",
              "      <td>1825300.0</td>\n",
              "      <td>11977300.0</td>\n",
              "      <td>587000.0</td>\n",
              "    </tr>\n",
              "  </tbody>\n",
              "</table>\n",
              "<p>2495 rows × 4 columns</p>\n",
              "</div>"
            ],
            "text/plain": [
              "                   AAPL        IBM        MSFT        GOOG\n",
              "Date                                                      \n",
              "2010-01-04  123432400.0  6155300.0  38409100.0   3927000.0\n",
              "2010-01-05  150476200.0  6841400.0  49749600.0   6031900.0\n",
              "2010-01-06  138040000.0  5605300.0  58182400.0   7987100.0\n",
              "2010-01-07  119282800.0  5840600.0  50559700.0  12876600.0\n",
              "2010-01-08  111902700.0  4197200.0  51197400.0   9483900.0\n",
              "...                 ...        ...         ...         ...\n",
              "2019-11-22   16331300.0  3297500.0  15901800.0   1385700.0\n",
              "2019-11-25   21005100.0  2590100.0  22420900.0   1036200.0\n",
              "2019-11-26   26301900.0  3793200.0  24620100.0   1069700.0\n",
              "2019-11-27   16308900.0  3280900.0  15184400.0    995600.0\n",
              "2019-11-29   11654400.0  1825300.0  11977300.0    587000.0\n",
              "\n",
              "[2495 rows x 4 columns]"
            ]
          },
          "metadata": {
            "tags": []
          },
          "execution_count": 26
        }
      ]
    },
    {
      "cell_type": "code",
      "metadata": {
        "id": "CNxKl04iN2jv",
        "colab_type": "code",
        "colab": {}
      },
      "source": [
        "#Computing percent changes of the prices"
      ],
      "execution_count": 0,
      "outputs": []
    },
    {
      "cell_type": "code",
      "metadata": {
        "id": "TZrMEi7GN2mA",
        "colab_type": "code",
        "colab": {}
      },
      "source": [
        "returns = price.pct_change()"
      ],
      "execution_count": 0,
      "outputs": []
    },
    {
      "cell_type": "code",
      "metadata": {
        "id": "h7h-6G7bN2oo",
        "colab_type": "code",
        "outputId": "308f8a94-7c82-49a3-84da-994fbec2d610",
        "colab": {
          "base_uri": "https://localhost:8080/",
          "height": 235
        }
      },
      "source": [
        "returns.tail()"
      ],
      "execution_count": 0,
      "outputs": [
        {
          "output_type": "execute_result",
          "data": {
            "text/html": [
              "<div>\n",
              "<style scoped>\n",
              "    .dataframe tbody tr th:only-of-type {\n",
              "        vertical-align: middle;\n",
              "    }\n",
              "\n",
              "    .dataframe tbody tr th {\n",
              "        vertical-align: top;\n",
              "    }\n",
              "\n",
              "    .dataframe thead th {\n",
              "        text-align: right;\n",
              "    }\n",
              "</style>\n",
              "<table border=\"1\" class=\"dataframe\">\n",
              "  <thead>\n",
              "    <tr style=\"text-align: right;\">\n",
              "      <th></th>\n",
              "      <th>AAPL</th>\n",
              "      <th>IBM</th>\n",
              "      <th>MSFT</th>\n",
              "      <th>GOOG</th>\n",
              "    </tr>\n",
              "    <tr>\n",
              "      <th>Date</th>\n",
              "      <th></th>\n",
              "      <th></th>\n",
              "      <th></th>\n",
              "      <th></th>\n",
              "    </tr>\n",
              "  </thead>\n",
              "  <tbody>\n",
              "    <tr>\n",
              "      <th>2019-11-22</th>\n",
              "      <td>-0.000878</td>\n",
              "      <td>0.003736</td>\n",
              "      <td>0.000736</td>\n",
              "      <td>-0.004618</td>\n",
              "    </tr>\n",
              "    <tr>\n",
              "      <th>2019-11-25</th>\n",
              "      <td>0.017534</td>\n",
              "      <td>0.012133</td>\n",
              "      <td>0.010963</td>\n",
              "      <td>0.008762</td>\n",
              "    </tr>\n",
              "    <tr>\n",
              "      <th>2019-11-26</th>\n",
              "      <td>-0.007809</td>\n",
              "      <td>-0.006472</td>\n",
              "      <td>0.005290</td>\n",
              "      <td>0.005250</td>\n",
              "    </tr>\n",
              "    <tr>\n",
              "      <th>2019-11-27</th>\n",
              "      <td>0.013432</td>\n",
              "      <td>-0.009771</td>\n",
              "      <td>0.001908</td>\n",
              "      <td>-0.000426</td>\n",
              "    </tr>\n",
              "    <tr>\n",
              "      <th>2019-11-29</th>\n",
              "      <td>-0.002203</td>\n",
              "      <td>0.005083</td>\n",
              "      <td>-0.006171</td>\n",
              "      <td>-0.006116</td>\n",
              "    </tr>\n",
              "  </tbody>\n",
              "</table>\n",
              "</div>"
            ],
            "text/plain": [
              "                AAPL       IBM      MSFT      GOOG\n",
              "Date                                              \n",
              "2019-11-22 -0.000878  0.003736  0.000736 -0.004618\n",
              "2019-11-25  0.017534  0.012133  0.010963  0.008762\n",
              "2019-11-26 -0.007809 -0.006472  0.005290  0.005250\n",
              "2019-11-27  0.013432 -0.009771  0.001908 -0.000426\n",
              "2019-11-29 -0.002203  0.005083 -0.006171 -0.006116"
            ]
          },
          "metadata": {
            "tags": []
          },
          "execution_count": 33
        }
      ]
    },
    {
      "cell_type": "markdown",
      "metadata": {
        "id": "ffFJ6uWZO-YD",
        "colab_type": "text"
      },
      "source": [
        "The corr method of Series computes the correlation of the overlapping, non-NA, aligned-by-index values in two Series. Relatedly, cov computes the covariance"
      ]
    },
    {
      "cell_type": "code",
      "metadata": {
        "id": "f508sX01Prbv",
        "colab_type": "code",
        "outputId": "2f394233-1a24-42d5-b56d-bedc016930aa",
        "colab": {
          "base_uri": "https://localhost:8080/",
          "height": 34
        }
      },
      "source": [
        "#Correlation  \n",
        "returns['MSFT'].corr(returns['IBM'])"
      ],
      "execution_count": 0,
      "outputs": [
        {
          "output_type": "execute_result",
          "data": {
            "text/plain": [
              "0.4902092706627884"
            ]
          },
          "metadata": {
            "tags": []
          },
          "execution_count": 34
        }
      ]
    },
    {
      "cell_type": "code",
      "metadata": {
        "id": "KluH6NfWPrej",
        "colab_type": "code",
        "colab": {}
      },
      "source": [
        "#Covariance \n",
        "returns['MSFT'].cov(returns['IBM'])"
      ],
      "execution_count": 0,
      "outputs": []
    },
    {
      "cell_type": "markdown",
      "metadata": {
        "id": "Vqln3Rq-QMKi",
        "colab_type": "text"
      },
      "source": [
        "DataFrame’s corr and cov methods, on the other hand, return a full correlation or covariance matrix as a DataFrame,"
      ]
    },
    {
      "cell_type": "code",
      "metadata": {
        "id": "RQ01kMFzPrm_",
        "colab_type": "code",
        "outputId": "37a2b232-c0fb-49f7-fc14-98138024534f",
        "colab": {
          "base_uri": "https://localhost:8080/",
          "height": 173
        }
      },
      "source": [
        "returns.corr()"
      ],
      "execution_count": 0,
      "outputs": [
        {
          "output_type": "execute_result",
          "data": {
            "text/html": [
              "<div>\n",
              "<style scoped>\n",
              "    .dataframe tbody tr th:only-of-type {\n",
              "        vertical-align: middle;\n",
              "    }\n",
              "\n",
              "    .dataframe tbody tr th {\n",
              "        vertical-align: top;\n",
              "    }\n",
              "\n",
              "    .dataframe thead th {\n",
              "        text-align: right;\n",
              "    }\n",
              "</style>\n",
              "<table border=\"1\" class=\"dataframe\">\n",
              "  <thead>\n",
              "    <tr style=\"text-align: right;\">\n",
              "      <th></th>\n",
              "      <th>AAPL</th>\n",
              "      <th>IBM</th>\n",
              "      <th>MSFT</th>\n",
              "      <th>GOOG</th>\n",
              "    </tr>\n",
              "  </thead>\n",
              "  <tbody>\n",
              "    <tr>\n",
              "      <th>AAPL</th>\n",
              "      <td>1.000000</td>\n",
              "      <td>0.385114</td>\n",
              "      <td>0.457220</td>\n",
              "      <td>0.464369</td>\n",
              "    </tr>\n",
              "    <tr>\n",
              "      <th>IBM</th>\n",
              "      <td>0.385114</td>\n",
              "      <td>1.000000</td>\n",
              "      <td>0.490209</td>\n",
              "      <td>0.406547</td>\n",
              "    </tr>\n",
              "    <tr>\n",
              "      <th>MSFT</th>\n",
              "      <td>0.457220</td>\n",
              "      <td>0.490209</td>\n",
              "      <td>1.000000</td>\n",
              "      <td>0.540851</td>\n",
              "    </tr>\n",
              "    <tr>\n",
              "      <th>GOOG</th>\n",
              "      <td>0.464369</td>\n",
              "      <td>0.406547</td>\n",
              "      <td>0.540851</td>\n",
              "      <td>1.000000</td>\n",
              "    </tr>\n",
              "  </tbody>\n",
              "</table>\n",
              "</div>"
            ],
            "text/plain": [
              "          AAPL       IBM      MSFT      GOOG\n",
              "AAPL  1.000000  0.385114  0.457220  0.464369\n",
              "IBM   0.385114  1.000000  0.490209  0.406547\n",
              "MSFT  0.457220  0.490209  1.000000  0.540851\n",
              "GOOG  0.464369  0.406547  0.540851  1.000000"
            ]
          },
          "metadata": {
            "tags": []
          },
          "execution_count": 35
        }
      ]
    },
    {
      "cell_type": "code",
      "metadata": {
        "id": "aFR1_mq5PrpR",
        "colab_type": "code",
        "outputId": "245d376d-3782-4e25-dec0-9cd0f9468ad1",
        "colab": {
          "base_uri": "https://localhost:8080/",
          "height": 173
        }
      },
      "source": [
        "returns.cov()"
      ],
      "execution_count": 0,
      "outputs": [
        {
          "output_type": "execute_result",
          "data": {
            "text/html": [
              "<div>\n",
              "<style scoped>\n",
              "    .dataframe tbody tr th:only-of-type {\n",
              "        vertical-align: middle;\n",
              "    }\n",
              "\n",
              "    .dataframe tbody tr th {\n",
              "        vertical-align: top;\n",
              "    }\n",
              "\n",
              "    .dataframe thead th {\n",
              "        text-align: right;\n",
              "    }\n",
              "</style>\n",
              "<table border=\"1\" class=\"dataframe\">\n",
              "  <thead>\n",
              "    <tr style=\"text-align: right;\">\n",
              "      <th></th>\n",
              "      <th>AAPL</th>\n",
              "      <th>IBM</th>\n",
              "      <th>MSFT</th>\n",
              "      <th>GOOG</th>\n",
              "    </tr>\n",
              "  </thead>\n",
              "  <tbody>\n",
              "    <tr>\n",
              "      <th>AAPL</th>\n",
              "      <td>0.000264</td>\n",
              "      <td>0.000077</td>\n",
              "      <td>0.000107</td>\n",
              "      <td>0.000117</td>\n",
              "    </tr>\n",
              "    <tr>\n",
              "      <th>IBM</th>\n",
              "      <td>0.000077</td>\n",
              "      <td>0.000153</td>\n",
              "      <td>0.000087</td>\n",
              "      <td>0.000078</td>\n",
              "    </tr>\n",
              "    <tr>\n",
              "      <th>MSFT</th>\n",
              "      <td>0.000107</td>\n",
              "      <td>0.000087</td>\n",
              "      <td>0.000206</td>\n",
              "      <td>0.000120</td>\n",
              "    </tr>\n",
              "    <tr>\n",
              "      <th>GOOG</th>\n",
              "      <td>0.000117</td>\n",
              "      <td>0.000078</td>\n",
              "      <td>0.000120</td>\n",
              "      <td>0.000239</td>\n",
              "    </tr>\n",
              "  </tbody>\n",
              "</table>\n",
              "</div>"
            ],
            "text/plain": [
              "          AAPL       IBM      MSFT      GOOG\n",
              "AAPL  0.000264  0.000077  0.000107  0.000117\n",
              "IBM   0.000077  0.000153  0.000087  0.000078\n",
              "MSFT  0.000107  0.000087  0.000206  0.000120\n",
              "GOOG  0.000117  0.000078  0.000120  0.000239"
            ]
          },
          "metadata": {
            "tags": []
          },
          "execution_count": 36
        }
      ]
    },
    {
      "cell_type": "markdown",
      "metadata": {
        "id": "KpG82vN2Qcg9",
        "colab_type": "text"
      },
      "source": [
        "**Passing a DataFrame computes the correlations of matching column names. Here I compute correlations of percent changes with volume**"
      ]
    },
    {
      "cell_type": "code",
      "metadata": {
        "id": "VWs7ZdtJQfoV",
        "colab_type": "code",
        "outputId": "5c56ee94-ab33-478e-8df9-ec7e18ede59f",
        "colab": {
          "base_uri": "https://localhost:8080/",
          "height": 102
        }
      },
      "source": [
        "#Correlation of Price and Volume using corrwith\n",
        "returns.corrwith(volume)"
      ],
      "execution_count": 0,
      "outputs": [
        {
          "output_type": "execute_result",
          "data": {
            "text/plain": [
              "AAPL   -0.065633\n",
              "IBM    -0.158186\n",
              "MSFT   -0.090274\n",
              "GOOG   -0.019507\n",
              "dtype: float64"
            ]
          },
          "metadata": {
            "tags": []
          },
          "execution_count": 37
        }
      ]
    },
    {
      "cell_type": "markdown",
      "metadata": {
        "id": "1qnN3BGcQs8o",
        "colab_type": "text"
      },
      "source": [
        "#Unique Values, Value Counts, and Membership"
      ]
    },
    {
      "cell_type": "code",
      "metadata": {
        "id": "5dK11ZXMQuwd",
        "colab_type": "code",
        "colab": {}
      },
      "source": [
        "obj = pd.Series(['c', 'a', 'd', 'a', 'a', 'b', 'b', 'c', 'c'])"
      ],
      "execution_count": 0,
      "outputs": []
    },
    {
      "cell_type": "code",
      "metadata": {
        "id": "aTGyKGpySNel",
        "colab_type": "code",
        "outputId": "da909216-74e9-40c9-97d8-9d368cd6a498",
        "colab": {
          "base_uri": "https://localhost:8080/",
          "height": 34
        }
      },
      "source": [
        "obj.unique()\n"
      ],
      "execution_count": 0,
      "outputs": [
        {
          "output_type": "execute_result",
          "data": {
            "text/plain": [
              "array(['c', 'a', 'd', 'b'], dtype=object)"
            ]
          },
          "metadata": {
            "tags": []
          },
          "execution_count": 39
        }
      ]
    },
    {
      "cell_type": "code",
      "metadata": {
        "id": "RmDuuk8XSNhg",
        "colab_type": "code",
        "outputId": "b1eff5e0-9c48-48a3-be38-f5a2ee698015",
        "colab": {
          "base_uri": "https://localhost:8080/",
          "height": 102
        }
      },
      "source": [
        "obj.value_counts()"
      ],
      "execution_count": 0,
      "outputs": [
        {
          "output_type": "execute_result",
          "data": {
            "text/plain": [
              "a    3\n",
              "c    3\n",
              "b    2\n",
              "d    1\n",
              "dtype: int64"
            ]
          },
          "metadata": {
            "tags": []
          },
          "execution_count": 41
        }
      ]
    },
    {
      "cell_type": "code",
      "metadata": {
        "id": "JZWGWy2RSNjl",
        "colab_type": "code",
        "outputId": "1b5e89ae-00e1-4c48-ff75-c8b95d76c786",
        "colab": {
          "base_uri": "https://localhost:8080/",
          "height": 102
        }
      },
      "source": [
        "pd.value_counts(obj.values, sort=False)"
      ],
      "execution_count": 0,
      "outputs": [
        {
          "output_type": "execute_result",
          "data": {
            "text/plain": [
              "d    1\n",
              "c    3\n",
              "b    2\n",
              "a    3\n",
              "dtype: int64"
            ]
          },
          "metadata": {
            "tags": []
          },
          "execution_count": 42
        }
      ]
    },
    {
      "cell_type": "markdown",
      "metadata": {
        "id": "8C-P9IOMS596",
        "colab_type": "text"
      },
      "source": [
        "Index.get_indexer method, which gives you an index array from an array of possibly non-distinct values into another array of distinct values"
      ]
    },
    {
      "cell_type": "code",
      "metadata": {
        "id": "a5B_F_oTSNmD",
        "colab_type": "code",
        "colab": {}
      },
      "source": [
        "to_match = pd.Series(['c', 'a', 'b', 'b', 'c', 'a'])"
      ],
      "execution_count": 0,
      "outputs": []
    },
    {
      "cell_type": "code",
      "metadata": {
        "id": "UDNDncQ6SNok",
        "colab_type": "code",
        "colab": {}
      },
      "source": [
        "unique_vals = pd.Series(['c', 'b', 'a'])"
      ],
      "execution_count": 0,
      "outputs": []
    },
    {
      "cell_type": "code",
      "metadata": {
        "id": "NwHzlBL9SNq-",
        "colab_type": "code",
        "outputId": "0e721476-dc89-40c8-f39a-af87c1564fc0",
        "colab": {
          "base_uri": "https://localhost:8080/",
          "height": 34
        }
      },
      "source": [
        "pd.Index(unique_vals).get_indexer(to_match)"
      ],
      "execution_count": 0,
      "outputs": [
        {
          "output_type": "execute_result",
          "data": {
            "text/plain": [
              "array([0, 2, 1, 1, 0, 2])"
            ]
          },
          "metadata": {
            "tags": []
          },
          "execution_count": 45
        }
      ]
    },
    {
      "cell_type": "markdown",
      "metadata": {
        "id": "cUl3SHFgTSzc",
        "colab_type": "text"
      },
      "source": [
        "In some cases, you may want to compute a histogram on multiple related columns in a DataFrame. Here’s an example"
      ]
    },
    {
      "cell_type": "code",
      "metadata": {
        "id": "65t84n6xSNtg",
        "colab_type": "code",
        "colab": {}
      },
      "source": [
        "data = pd.DataFrame({'Qu1': [1, 3, 4, 3, 4],\n",
        "       .....:                      'Qu2': [2, 3, 1, 2, 3],\n",
        "       .....:                      'Qu3': [1, 5, 2, 4, 4]})"
      ],
      "execution_count": 0,
      "outputs": []
    },
    {
      "cell_type": "code",
      "metadata": {
        "id": "fakMYLPVTYEl",
        "colab_type": "code",
        "outputId": "d58bc16f-4d47-4434-f926-ce3d46c30464",
        "colab": {
          "base_uri": "https://localhost:8080/",
          "height": 204
        }
      },
      "source": [
        "data"
      ],
      "execution_count": 0,
      "outputs": [
        {
          "output_type": "execute_result",
          "data": {
            "text/html": [
              "<div>\n",
              "<style scoped>\n",
              "    .dataframe tbody tr th:only-of-type {\n",
              "        vertical-align: middle;\n",
              "    }\n",
              "\n",
              "    .dataframe tbody tr th {\n",
              "        vertical-align: top;\n",
              "    }\n",
              "\n",
              "    .dataframe thead th {\n",
              "        text-align: right;\n",
              "    }\n",
              "</style>\n",
              "<table border=\"1\" class=\"dataframe\">\n",
              "  <thead>\n",
              "    <tr style=\"text-align: right;\">\n",
              "      <th></th>\n",
              "      <th>Qu1</th>\n",
              "      <th>Qu2</th>\n",
              "      <th>Qu3</th>\n",
              "    </tr>\n",
              "  </thead>\n",
              "  <tbody>\n",
              "    <tr>\n",
              "      <th>0</th>\n",
              "      <td>1</td>\n",
              "      <td>2</td>\n",
              "      <td>1</td>\n",
              "    </tr>\n",
              "    <tr>\n",
              "      <th>1</th>\n",
              "      <td>3</td>\n",
              "      <td>3</td>\n",
              "      <td>5</td>\n",
              "    </tr>\n",
              "    <tr>\n",
              "      <th>2</th>\n",
              "      <td>4</td>\n",
              "      <td>1</td>\n",
              "      <td>2</td>\n",
              "    </tr>\n",
              "    <tr>\n",
              "      <th>3</th>\n",
              "      <td>3</td>\n",
              "      <td>2</td>\n",
              "      <td>4</td>\n",
              "    </tr>\n",
              "    <tr>\n",
              "      <th>4</th>\n",
              "      <td>4</td>\n",
              "      <td>3</td>\n",
              "      <td>4</td>\n",
              "    </tr>\n",
              "  </tbody>\n",
              "</table>\n",
              "</div>"
            ],
            "text/plain": [
              "   Qu1  Qu2  Qu3\n",
              "0    1    2    1\n",
              "1    3    3    5\n",
              "2    4    1    2\n",
              "3    3    2    4\n",
              "4    4    3    4"
            ]
          },
          "metadata": {
            "tags": []
          },
          "execution_count": 47
        }
      ]
    },
    {
      "cell_type": "code",
      "metadata": {
        "id": "kThSczRHTbqq",
        "colab_type": "code",
        "outputId": "582efae4-f49f-4083-a075-32a51cdd127d",
        "colab": {
          "base_uri": "https://localhost:8080/",
          "height": 204
        }
      },
      "source": [
        "#Here, the row labels in the result are the distinct values occurring in all of the col‐ umns. \n",
        "#The values are the respective counts of these values in each column\n",
        "data.apply(pd.value_counts).fillna(0)"
      ],
      "execution_count": 0,
      "outputs": [
        {
          "output_type": "execute_result",
          "data": {
            "text/html": [
              "<div>\n",
              "<style scoped>\n",
              "    .dataframe tbody tr th:only-of-type {\n",
              "        vertical-align: middle;\n",
              "    }\n",
              "\n",
              "    .dataframe tbody tr th {\n",
              "        vertical-align: top;\n",
              "    }\n",
              "\n",
              "    .dataframe thead th {\n",
              "        text-align: right;\n",
              "    }\n",
              "</style>\n",
              "<table border=\"1\" class=\"dataframe\">\n",
              "  <thead>\n",
              "    <tr style=\"text-align: right;\">\n",
              "      <th></th>\n",
              "      <th>Qu1</th>\n",
              "      <th>Qu2</th>\n",
              "      <th>Qu3</th>\n",
              "    </tr>\n",
              "  </thead>\n",
              "  <tbody>\n",
              "    <tr>\n",
              "      <th>1</th>\n",
              "      <td>1.0</td>\n",
              "      <td>1.0</td>\n",
              "      <td>1.0</td>\n",
              "    </tr>\n",
              "    <tr>\n",
              "      <th>2</th>\n",
              "      <td>0.0</td>\n",
              "      <td>2.0</td>\n",
              "      <td>1.0</td>\n",
              "    </tr>\n",
              "    <tr>\n",
              "      <th>3</th>\n",
              "      <td>2.0</td>\n",
              "      <td>2.0</td>\n",
              "      <td>0.0</td>\n",
              "    </tr>\n",
              "    <tr>\n",
              "      <th>4</th>\n",
              "      <td>2.0</td>\n",
              "      <td>0.0</td>\n",
              "      <td>2.0</td>\n",
              "    </tr>\n",
              "    <tr>\n",
              "      <th>5</th>\n",
              "      <td>0.0</td>\n",
              "      <td>0.0</td>\n",
              "      <td>1.0</td>\n",
              "    </tr>\n",
              "  </tbody>\n",
              "</table>\n",
              "</div>"
            ],
            "text/plain": [
              "   Qu1  Qu2  Qu3\n",
              "1  1.0  1.0  1.0\n",
              "2  0.0  2.0  1.0\n",
              "3  2.0  2.0  0.0\n",
              "4  2.0  0.0  2.0\n",
              "5  0.0  0.0  1.0"
            ]
          },
          "metadata": {
            "tags": []
          },
          "execution_count": 49
        }
      ]
    }
  ]
}