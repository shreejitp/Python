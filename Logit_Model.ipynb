{
 "cells": [
  {
   "cell_type": "code",
   "execution_count": 1,
   "metadata": {},
   "outputs": [
    {
     "name": "stderr",
     "output_type": "stream",
     "text": [
      "/anaconda/lib/python3.6/site-packages/sklearn/cross_validation.py:44: DeprecationWarning: This module was deprecated in version 0.18 in favor of the model_selection module into which all the refactored classes and functions are moved. Also note that the interface of the new CV iterators are different from that of this module. This module will be removed in 0.20.\n",
      "  \"This module will be removed in 0.20.\", DeprecationWarning)\n"
     ]
    }
   ],
   "source": [
    "import pandas as pd\n",
    "import numpy as np\n",
    "from sklearn import preprocessing\n",
    "import matplotlib.pyplot as plt \n",
    "plt.rc(\"font\", size=14)\n",
    "from sklearn.linear_model import LogisticRegression\n",
    "from sklearn.cross_validation import train_test_split\n",
    "import seaborn as sns\n",
    "sns.set(style=\"white\")\n",
    "sns.set(style=\"whitegrid\", color_codes=True)"
   ]
  },
  {
   "cell_type": "code",
   "execution_count": 28,
   "metadata": {},
   "outputs": [
    {
     "name": "stdout",
     "output_type": "stream",
     "text": [
      "(10202, 48)\n"
     ]
    }
   ],
   "source": [
    "data=pd.read_csv('/Users/spillai/Downloads/vdc.csv')\n",
    "print(data.shape)\n"
   ]
  },
  {
   "cell_type": "code",
   "execution_count": 29,
   "metadata": {},
   "outputs": [
    {
     "name": "stdout",
     "output_type": "stream",
     "text": [
      "['dtchannelname', 'renew_ind', 'not_null_actions', 'null_actions', 'mailbox_created', 'billingcentral', 'renewal', 'email', 'marketing', 'domains', 'fm', 'ftp', 'mysql', 'weebly', 'support', 'not_null_actions_9', 'null_actions_9', 'mailbox_created_9', 'billingcentral_9', 'renewal_9', 'email_9', 'marketing_9', 'domains_9', 'website_9', 'fm_9', 'ftp_9', 'mysql_9', 'weebly_9', 'support_9', 'not_null_actions_10', 'null_actions_10', 'mailbox_created_10', 'billingcentral_10', 'renewal_10', 'email_10', 'marketing_10', 'domains_10', 'website_10', 'fm_10', 'ftp_10', 'mysql_10', 'weebly_10', 'support_10', 'add_on_mrr', 'domain_mrr', '1_year_domains_new', 'com_domains_new', 'org_domains_new']\n"
     ]
    }
   ],
   "source": [
    "print(list(data.columns))"
   ]
  },
  {
   "cell_type": "code",
   "execution_count": 30,
   "metadata": {},
   "outputs": [
    {
     "data": {
      "text/plain": [
       "array([ 0,  1,  2,  4,  3,  7, 26,  6,  5])"
      ]
     },
     "execution_count": 30,
     "metadata": {},
     "output_type": "execute_result"
    }
   ],
   "source": [
    "data['com_domains_new'].unique()"
   ]
  },
  {
   "cell_type": "code",
   "execution_count": 31,
   "metadata": {},
   "outputs": [
    {
     "data": {
      "text/plain": [
       "0    5464\n",
       "1    4738\n",
       "Name: renew_ind, dtype: int64"
      ]
     },
     "execution_count": 31,
     "metadata": {},
     "output_type": "execute_result"
    }
   ],
   "source": [
    "data['renew_ind'].value_counts()"
   ]
  },
  {
   "cell_type": "code",
   "execution_count": 32,
   "metadata": {},
   "outputs": [
    {
     "data": {
      "image/png": "[encoded data removed]",
      "text/plain": [
       "<matplotlib.figure.Figure at 0x114ccc2b0>"
      ]
     },
     "metadata": {},
     "output_type": "display_data"
    },
    {
     "data": {
      "text/plain": [
       "<matplotlib.figure.Figure at 0x114c34550>"
      ]
     },
     "metadata": {},
     "output_type": "display_data"
    }
   ],
   "source": [
    "sns.countplot(x='renew_ind',data=data,palette='hls')\n",
    "plt.show()\n",
    "plt.savefig('count_plot')"
   ]
  },
  {
   "cell_type": "code",
   "execution_count": 12,
   "metadata": {},
   "outputs": [
    {
     "data": {
      "text/html": [
       "<div>\n",
       "<style>\n",
       "    .dataframe thead tr:only-child th {\n",
       "        text-align: right;\n",
       "    }\n",
       "\n",
       "    .dataframe thead th {\n",
       "        text-align: left;\n",
       "    }\n",
       "\n",
       "    .dataframe tbody tr th {\n",
       "        vertical-align: top;\n",
       "    }\n",
       "</style>\n",
       "<table border=\"1\" class=\"dataframe\">\n",
       "  <thead>\n",
       "    <tr style=\"text-align: right;\">\n",
       "      <th></th>\n",
       "      <th>dtcommid</th>\n",
       "      <th>not_null_actions</th>\n",
       "      <th>null_actions</th>\n",
       "      <th>mailbox_created</th>\n",
       "      <th>billingcentral</th>\n",
       "      <th>renewal</th>\n",
       "      <th>email</th>\n",
       "      <th>marketing</th>\n",
       "      <th>domains</th>\n",
       "      <th>fm</th>\n",
       "      <th>...</th>\n",
       "      <th>fm_10</th>\n",
       "      <th>ftp_10</th>\n",
       "      <th>mysql_10</th>\n",
       "      <th>weebly_10</th>\n",
       "      <th>support_10</th>\n",
       "      <th>add_on_mrr</th>\n",
       "      <th>domain_mrr</th>\n",
       "      <th>1_year_domains_new</th>\n",
       "      <th>com_domains_new</th>\n",
       "      <th>org_domains_new</th>\n",
       "    </tr>\n",
       "    <tr>\n",
       "      <th>renew_ind</th>\n",
       "      <th></th>\n",
       "      <th></th>\n",
       "      <th></th>\n",
       "      <th></th>\n",
       "      <th></th>\n",
       "      <th></th>\n",
       "      <th></th>\n",
       "      <th></th>\n",
       "      <th></th>\n",
       "      <th></th>\n",
       "      <th></th>\n",
       "      <th></th>\n",
       "      <th></th>\n",
       "      <th></th>\n",
       "      <th></th>\n",
       "      <th></th>\n",
       "      <th></th>\n",
       "      <th></th>\n",
       "      <th></th>\n",
       "      <th></th>\n",
       "      <th></th>\n",
       "    </tr>\n",
       "  </thead>\n",
       "  <tbody>\n",
       "    <tr>\n",
       "      <th>0</th>\n",
       "      <td>8.712660e+06</td>\n",
       "      <td>119.085469</td>\n",
       "      <td>150.567716</td>\n",
       "      <td>1.053075</td>\n",
       "      <td>0.406296</td>\n",
       "      <td>0.669656</td>\n",
       "      <td>6.877379</td>\n",
       "      <td>0.359078</td>\n",
       "      <td>4.648243</td>\n",
       "      <td>8.733895</td>\n",
       "      <td>...</td>\n",
       "      <td>0.717240</td>\n",
       "      <td>0.137628</td>\n",
       "      <td>0.332357</td>\n",
       "      <td>0.052160</td>\n",
       "      <td>0.155564</td>\n",
       "      <td>1.574122</td>\n",
       "      <td>0.097529</td>\n",
       "      <td>0.107064</td>\n",
       "      <td>0.056918</td>\n",
       "      <td>0.006955</td>\n",
       "    </tr>\n",
       "    <tr>\n",
       "      <th>1</th>\n",
       "      <td>8.730481e+06</td>\n",
       "      <td>121.925074</td>\n",
       "      <td>155.299493</td>\n",
       "      <td>1.468552</td>\n",
       "      <td>0.334318</td>\n",
       "      <td>0.381596</td>\n",
       "      <td>8.483326</td>\n",
       "      <td>0.337906</td>\n",
       "      <td>5.016674</td>\n",
       "      <td>7.917476</td>\n",
       "      <td>...</td>\n",
       "      <td>0.811524</td>\n",
       "      <td>0.220346</td>\n",
       "      <td>0.371887</td>\n",
       "      <td>0.185732</td>\n",
       "      <td>0.209371</td>\n",
       "      <td>1.721528</td>\n",
       "      <td>0.159244</td>\n",
       "      <td>0.147742</td>\n",
       "      <td>0.072604</td>\n",
       "      <td>0.010764</td>\n",
       "    </tr>\n",
       "  </tbody>\n",
       "</table>\n",
       "<p>2 rows × 47 columns</p>\n",
       "</div>"
      ],
      "text/plain": [
       "               dtcommid  not_null_actions  null_actions  mailbox_created  \\\n",
       "renew_ind                                                                  \n",
       "0          8.712660e+06        119.085469    150.567716         1.053075   \n",
       "1          8.730481e+06        121.925074    155.299493         1.468552   \n",
       "\n",
       "           billingcentral   renewal     email  marketing   domains        fm  \\\n",
       "renew_ind                                                                      \n",
       "0                0.406296  0.669656  6.877379   0.359078  4.648243  8.733895   \n",
       "1                0.334318  0.381596  8.483326   0.337906  5.016674  7.917476   \n",
       "\n",
       "                ...            fm_10    ftp_10  mysql_10  weebly_10  \\\n",
       "renew_ind       ...                                                   \n",
       "0               ...         0.717240  0.137628  0.332357   0.052160   \n",
       "1               ...         0.811524  0.220346  0.371887   0.185732   \n",
       "\n",
       "           support_10  add_on_mrr  domain_mrr  1_year_domains_new  \\\n",
       "renew_ind                                                           \n",
       "0            0.155564    1.574122    0.097529            0.107064   \n",
       "1            0.209371    1.721528    0.159244            0.147742   \n",
       "\n",
       "           com_domains_new  org_domains_new  \n",
       "renew_ind                                    \n",
       "0                 0.056918         0.006955  \n",
       "1                 0.072604         0.010764  \n",
       "\n",
       "[2 rows x 47 columns]"
      ]
     },
     "execution_count": 12,
     "metadata": {},
     "output_type": "execute_result"
    }
   ],
   "source": [
    "data.groupby('renew_ind').mean()"
   ]
  },
  {
   "cell_type": "code",
   "execution_count": 13,
   "metadata": {},
   "outputs": [
    {
     "data": {
      "image/png": "[encoded data removed]",
      "text/plain": [
       "<matplotlib.figure.Figure at 0x1101084a8>"
      ]
     },
     "metadata": {},
     "output_type": "display_data"
    }
   ],
   "source": [
    "%matplotlib inline\n",
    "pd.crosstab(data.com_domains_new,data.renew_ind).plot(kind='bar')\n",
    "plt.title('Renewal by .com purchases')\n",
    "plt.xlabel('Domains')\n",
    "plt.ylabel('Renew_ind')\n",
    "plt.savefig('g1')"
   ]
  },
  {
   "cell_type": "code",
   "execution_count": 16,
   "metadata": {},
   "outputs": [
    {
     "data": {
      "image/png": "[encoded data removed]",
      "text/plain": [
       "<matplotlib.figure.Figure at 0x10ff3e198>"
      ]
     },
     "metadata": {},
     "output_type": "display_data"
    }
   ],
   "source": [
    "table=pd.crosstab(data.com_domains_new,data.renew_ind)\n",
    "table.div(table.sum(1).astype(float), axis=0).plot(kind='bar', stacked=True)\n",
    "plt.title('Renewal by .com purchases')\n",
    "plt.xlabel('Domains')\n",
    "plt.ylabel('Renew_ind')\n",
    "plt.savefig('g2')"
   ]
  },
  {
   "cell_type": "code",
   "execution_count": 18,
   "metadata": {},
   "outputs": [
    {
     "data": {
      "image/png": "[encoded data removed]",
      "text/plain": [
       "<matplotlib.figure.Figure at 0x114c58550>"
      ]
     },
     "metadata": {},
     "output_type": "display_data"
    }
   ],
   "source": [
    "# May need to change to scale for the histogram here \n",
    "data.null_actions.hist()\n",
    "plt.title('Histogram of Mailboxes created')\n",
    "plt.xlabel('Mailboxes')\n",
    "plt.ylabel('Frequency')\n",
    "plt.savefig('hist_mc')"
   ]
  },
  {
   "cell_type": "code",
   "execution_count": 33,
   "metadata": {},
   "outputs": [
    {
     "data": {
      "text/plain": [
       "array(['dtchannelname', 'renew_ind', 'not_null_actions', 'null_actions',\n",
       "       'mailbox_created', 'billingcentral', 'renewal', 'email',\n",
       "       'marketing', 'domains', 'fm', 'ftp', 'mysql', 'weebly', 'support',\n",
       "       'not_null_actions_9', 'null_actions_9', 'mailbox_created_9',\n",
       "       'billingcentral_9', 'renewal_9', 'email_9', 'marketing_9',\n",
       "       'domains_9', 'website_9', 'fm_9', 'ftp_9', 'mysql_9', 'weebly_9',\n",
       "       'support_9', 'not_null_actions_10', 'null_actions_10',\n",
       "       'mailbox_created_10', 'billingcentral_10', 'renewal_10', 'email_10',\n",
       "       'marketing_10', 'domains_10', 'website_10', 'fm_10', 'ftp_10',\n",
       "       'mysql_10', 'weebly_10', 'support_10', 'add_on_mrr', 'domain_mrr',\n",
       "       '1_year_domains_new', 'com_domains_new', 'org_domains_new'], dtype=object)"
      ]
     },
     "execution_count": 33,
     "metadata": {},
     "output_type": "execute_result"
    }
   ],
   "source": [
    "data.columns.values"
   ]
  },
  {
   "cell_type": "code",
   "execution_count": 34,
   "metadata": {
    "collapsed": true
   },
   "outputs": [],
   "source": [
    "cat_vars=['dtchannelname']\n",
    "for var in cat_vars:\n",
    "    cat_list='var'+'_'+var\n",
    "    cat_list = pd.get_dummies(data[var], prefix=var)\n",
    "    data1=data.join(cat_list)\n",
    "    data=data1\n",
    "    \n",
    "cat_vars=['dtchannelname']\n",
    "data_vars=data.columns.values.tolist()\n",
    "to_keep=[i for i in data_vars if i not in cat_vars]"
   ]
  },
  {
   "cell_type": "code",
   "execution_count": 35,
   "metadata": {},
   "outputs": [
    {
     "data": {
      "text/plain": [
       "array(['renew_ind', 'not_null_actions', 'null_actions', 'mailbox_created',\n",
       "       'billingcentral', 'renewal', 'email', 'marketing', 'domains', 'fm',\n",
       "       'ftp', 'mysql', 'weebly', 'support', 'not_null_actions_9',\n",
       "       'null_actions_9', 'mailbox_created_9', 'billingcentral_9',\n",
       "       'renewal_9', 'email_9', 'marketing_9', 'domains_9', 'website_9',\n",
       "       'fm_9', 'ftp_9', 'mysql_9', 'weebly_9', 'support_9',\n",
       "       'not_null_actions_10', 'null_actions_10', 'mailbox_created_10',\n",
       "       'billingcentral_10', 'renewal_10', 'email_10', 'marketing_10',\n",
       "       'domains_10', 'website_10', 'fm_10', 'ftp_10', 'mysql_10',\n",
       "       'weebly_10', 'support_10', 'add_on_mrr', 'domain_mrr',\n",
       "       '1_year_domains_new', 'com_domains_new', 'org_domains_new',\n",
       "       'dtchannelname_Affiliate', 'dtchannelname_Direct',\n",
       "       'dtchannelname_Reseller'], dtype=object)"
      ]
     },
     "execution_count": 35,
     "metadata": {},
     "output_type": "execute_result"
    }
   ],
   "source": [
    "data_final=data[to_keep]\n",
    "data_final.columns.values"
   ]
  },
  {
   "cell_type": "code",
   "execution_count": 36,
   "metadata": {
    "collapsed": true
   },
   "outputs": [],
   "source": [
    "data_final_vars=data_final.columns.values.tolist()\n",
    "y=['renew_ind']\n",
    "X=[i for i in data_final_vars if i not in y]"
   ]
  },
  {
   "cell_type": "code",
   "execution_count": 37,
   "metadata": {},
   "outputs": [
    {
     "name": "stderr",
     "output_type": "stream",
     "text": [
      "/anaconda/lib/python3.6/site-packages/sklearn/utils/validation.py:526: DataConversionWarning: A column-vector y was passed when a 1d array was expected. Please change the shape of y to (n_samples, ), for example using ravel().\n",
      "  y = column_or_1d(y, warn=True)\n"
     ]
    },
    {
     "name": "stdout",
     "output_type": "stream",
     "text": [
      "[False False False False  True False False False False False False False\n",
      " False False False  True False  True  True  True  True False False False\n",
      " False False  True False False  True False  True  True  True False  True\n",
      " False False False False False False  True False  True  True  True  True\n",
      "  True]\n",
      "[26 25  2 15  1 31  9 16 23 30 13 24 19 27 18  1  4  1  1  1  1 21 17  5  6\n",
      " 32  1 20 22  1  8  1  1  1  3  1 11  7 10 29 12 14  1 28  1  1  1  1  1]\n"
     ]
    }
   ],
   "source": [
    "from sklearn import datasets\n",
    "from sklearn.feature_selection import RFE\n",
    "from sklearn.linear_model import LogisticRegression\n",
    "logreg = LogisticRegression()\n",
    "rfe = RFE(logreg, 18)\n",
    "rfe = rfe.fit(data[X], data[y] )\n",
    "print(rfe.support_)\n",
    "print(rfe.ranking_)"
   ]
  },
  {
   "cell_type": "code",
   "execution_count": 39,
   "metadata": {
    "collapsed": true
   },
   "outputs": [],
   "source": [
    "cols=[\"renewal\", \"mailbox_created_9\", \"email_9\", \"marketing_9\", \"domains_9\", \"support_9\", \"mailbox_created_10\", \n",
    "      \"renewal_10\", \"email_10\", \"marketing_10\", \"website_10\", \"domain_mrr\", \"com_domains_new\", \"org_domains_new\", \n",
    "      \"dtchannelname_Affiliate\", \"dtchannelname_Direct\",\"dtchannelname_Reseller\"]\n",
    "X=data_final[cols]\n",
    "y=data_final['renew_ind']"
   ]
  },
  {
   "cell_type": "code",
   "execution_count": 40,
   "metadata": {},
   "outputs": [
    {
     "name": "stderr",
     "output_type": "stream",
     "text": [
      "/anaconda/lib/python3.6/site-packages/statsmodels/compat/pandas.py:56: FutureWarning: The pandas.core.datetools module is deprecated and will be removed in a future version. Please use the pandas.tseries module instead.\n",
      "  from pandas.core import datetools\n"
     ]
    },
    {
     "name": "stdout",
     "output_type": "stream",
     "text": [
      "Warning: Maximum number of iterations has been exceeded.\n",
      "         Current function value: 0.677159\n",
      "         Iterations: 35\n",
      "                           Logit Regression Results                           \n",
      "==============================================================================\n",
      "Dep. Variable:              renew_ind   No. Observations:                10202\n",
      "Model:                          Logit   Df Residuals:                    10185\n",
      "Method:                           MLE   Df Model:                           16\n",
      "Date:                Fri, 12 Jan 2018   Pseudo R-squ.:                 0.01948\n",
      "Time:                        13:22:15   Log-Likelihood:                -6908.4\n",
      "converged:                      False   LL-Null:                       -7045.6\n",
      "                                        LLR p-value:                 4.687e-49\n",
      "===========================================================================================\n",
      "                              coef    std err          z      P>|z|      [0.025      0.975]\n",
      "-------------------------------------------------------------------------------------------\n",
      "renewal                    -0.0927      0.012     -7.421      0.000      -0.117      -0.068\n",
      "mailbox_created_9          -0.0384      0.039     -0.977      0.328      -0.115       0.039\n",
      "email_9                     0.0674      0.025      2.711      0.007       0.019       0.116\n",
      "marketing_9                -0.1460      0.111     -1.317      0.188      -0.363       0.071\n",
      "domains_9                  -0.1724      0.074     -2.327      0.020      -0.318      -0.027\n",
      "support_9                   0.0351      0.017      2.082      0.037       0.002       0.068\n",
      "mailbox_created_10         -0.0378      0.056     -0.679      0.497      -0.147       0.071\n",
      "renewal_10                 -0.4624      0.070     -6.600      0.000      -0.600      -0.325\n",
      "email_10                    0.0860      0.036      2.399      0.016       0.016       0.156\n",
      "marketing_10               -0.0989      0.133     -0.741      0.459      -0.360       0.163\n",
      "website_10                  0.0594      0.012      4.905      0.000       0.036       0.083\n",
      "domain_mrr                  0.2347      0.055      4.246      0.000       0.126       0.343\n",
      "com_domains_new            -0.0812      0.078     -1.041      0.298      -0.234       0.072\n",
      "org_domains_new            -0.3403      0.193     -1.761      0.078      -0.719       0.038\n",
      "dtchannelname_Affiliate    -0.2471      0.028     -8.805      0.000      -0.302      -0.192\n",
      "dtchannelname_Direct        0.0154      0.032      0.487      0.626      -0.047       0.078\n",
      "dtchannelname_Reseller     20.2811   2.58e+04      0.001      0.999   -5.05e+04    5.06e+04\n",
      "===========================================================================================\n"
     ]
    },
    {
     "name": "stderr",
     "output_type": "stream",
     "text": [
      "/anaconda/lib/python3.6/site-packages/statsmodels/base/model.py:496: ConvergenceWarning: Maximum Likelihood optimization failed to converge. Check mle_retvals\n",
      "  \"Check mle_retvals\", ConvergenceWarning)\n"
     ]
    }
   ],
   "source": [
    "import statsmodels.api as sm\n",
    "logit_model=sm.Logit(y,X)\n",
    "result=logit_model.fit()\n",
    "print(result.summary())"
   ]
  },
  {
   "cell_type": "code",
   "execution_count": 41,
   "metadata": {},
   "outputs": [
    {
     "data": {
      "text/plain": [
       "LogisticRegression(C=1.0, class_weight=None, dual=False, fit_intercept=True,\n",
       "          intercept_scaling=1, max_iter=100, multi_class='ovr', n_jobs=1,\n",
       "          penalty='l2', random_state=None, solver='liblinear', tol=0.0001,\n",
       "          verbose=0, warm_start=False)"
      ]
     },
     "execution_count": 41,
     "metadata": {},
     "output_type": "execute_result"
    }
   ],
   "source": [
    "X_train, X_test, y_train, y_test = train_test_split(X, y, test_size=0.3, random_state=0)\n",
    "from sklearn.linear_model import LogisticRegression\n",
    "from sklearn import metrics\n",
    "logreg = LogisticRegression()\n",
    "logreg.fit(X_train, y_train)"
   ]
  },
  {
   "cell_type": "code",
   "execution_count": 43,
   "metadata": {},
   "outputs": [
    {
     "name": "stdout",
     "output_type": "stream",
     "text": [
      "Accuracy of logistic regression classifier on test set: 0.55\n"
     ]
    }
   ],
   "source": [
    "y_pred = logreg.predict(X_test)\n",
    "print('Accuracy of logistic regression classifier on test set: {:.2f}'.format(logreg.score(X_test, y_test)))"
   ]
  },
  {
   "cell_type": "code",
   "execution_count": 44,
   "metadata": {},
   "outputs": [
    {
     "name": "stdout",
     "output_type": "stream",
     "text": [
      "10-fold cross validation average accuracy: 0.556\n"
     ]
    }
   ],
   "source": [
    "from sklearn import model_selection\n",
    "from sklearn.model_selection import cross_val_score\n",
    "kfold = model_selection.KFold(n_splits=10, random_state=7)\n",
    "modelCV = LogisticRegression()\n",
    "scoring = 'accuracy'\n",
    "results = model_selection.cross_val_score(modelCV, X_train, y_train, cv=kfold, scoring=scoring)\n",
    "print(\"10-fold cross validation average accuracy: %.3f\" % (results.mean()))"
   ]
  },
  {
   "cell_type": "code",
   "execution_count": 45,
   "metadata": {},
   "outputs": [
    {
     "name": "stdout",
     "output_type": "stream",
     "text": [
      "[[1034  566]\n",
      " [ 819  642]]\n"
     ]
    }
   ],
   "source": [
    "from sklearn.metrics import confusion_matrix\n",
    "confusion_matrix = confusion_matrix(y_test, y_pred)\n",
    "print(confusion_matrix)"
   ]
  },
  {
   "cell_type": "code",
   "execution_count": 46,
   "metadata": {},
   "outputs": [
    {
     "name": "stdout",
     "output_type": "stream",
     "text": [
      "             precision    recall  f1-score   support\n",
      "\n",
      "          0       0.56      0.65      0.60      1600\n",
      "          1       0.53      0.44      0.48      1461\n",
      "\n",
      "avg / total       0.55      0.55      0.54      3061\n",
      "\n"
     ]
    }
   ],
   "source": [
    "from sklearn.metrics import classification_report\n",
    "print(classification_report(y_test, y_pred))"
   ]
  },
  {
   "cell_type": "code",
   "execution_count": null,
   "metadata": {
    "collapsed": true
   },
   "outputs": [],
   "source": [
    "#Interpretation: Of the entire test set, 55% of the promoted term deposit were \n",
    "#the term deposit that the customers liked. \n",
    "#Of the entire test set, 90% of the customer’s preferred term deposits that were promoted."
   ]
  },
  {
   "cell_type": "code",
   "execution_count": 47,
   "metadata": {},
   "outputs": [
    {
     "data": {
      "image/png": "[encoded data removed]",
      "text/plain": [
       "<matplotlib.figure.Figure at 0x114b8ed30>"
      ]
     },
     "metadata": {},
     "output_type": "display_data"
    }
   ],
   "source": [
    "from sklearn.metrics import roc_auc_score\n",
    "from sklearn.metrics import roc_curve\n",
    "logit_roc_auc = roc_auc_score(y_test, logreg.predict(X_test))\n",
    "fpr, tpr, thresholds = roc_curve(y_test, logreg.predict_proba(X_test)[:,1])\n",
    "plt.figure()\n",
    "plt.plot(fpr, tpr, label='Logistic Regression (area = %0.2f)' % logit_roc_auc)\n",
    "plt.plot([0, 1], [0, 1],'r--')\n",
    "plt.xlim([0.0, 1.0])\n",
    "plt.ylim([0.0, 1.05])\n",
    "plt.xlabel('False Positive Rate')\n",
    "plt.ylabel('True Positive Rate')\n",
    "plt.title('Receiver operating characteristic')\n",
    "plt.legend(loc=\"lower right\")\n",
    "plt.savefig('Log_ROC')\n",
    "plt.show()"
   ]
  },
  {
   "cell_type": "code",
   "execution_count": null,
   "metadata": {
    "collapsed": true
   },
   "outputs": [],
   "source": []
  }
 ],
 "metadata": {
  "kernelspec": {
   "display_name": "Python 3",
   "language": "python",
   "name": "python3"
  },
  "language_info": {
   "codemirror_mode": {
    "name": "ipython",
    "version": 3
   },
   "file_extension": ".py",
   "mimetype": "text/x-python",
   "name": "python",
   "nbconvert_exporter": "python",
   "pygments_lexer": "ipython3",
   "version": "3.6.1"
  }
 },
 "nbformat": 4,
 "nbformat_minor": 2
}
